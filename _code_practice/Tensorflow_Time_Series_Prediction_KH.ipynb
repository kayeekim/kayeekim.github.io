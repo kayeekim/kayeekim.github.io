{
  "nbformat": 4,
  "nbformat_minor": 0,
  "metadata": {
    "colab": {
      "name": "Tensorflow Time Series Prediction - KH.ipynb",
      "provenance": [],
      "collapsed_sections": [],
      "mount_file_id": "15arU2g4dOVNihQHlEtHkNGdIoJa1baJg",
      "authorship_tag": "ABX9TyOTQ34MrShldgKknv3iy7Nr",
      "include_colab_link": true
    },
    "kernelspec": {
      "name": "python3",
      "display_name": "Python 3"
    },
    "language_info": {
      "name": "python"
    },
    "accelerator": "GPU"
  },
  "cells": [
    {
      "cell_type": "markdown",
      "metadata": {
        "id": "view-in-github",
        "colab_type": "text"
      },
      "source": [
        "<a href=\"https://colab.research.google.com/github/kayeekim00/kayeekim00.github.io/blob/master/_code_practice/Tensorflow_Time_Series_Prediction_KH.ipynb\" target=\"_parent\"><img src=\"https://colab.research.google.com/assets/colab-badge.svg\" alt=\"Open In Colab\"/></a>"
      ]
    },
    {
      "cell_type": "markdown",
      "source": [
        "# Tensorflow Core Tutorial 따라하기 (KH Practice)\n",
        "\n",
        "-. Link. https://www.tensorflow.org/tutorials/structured_data/time_series?hl=ko\n"
      ],
      "metadata": {
        "id": "xuALx7yWKHIV"
      }
    },
    {
      "cell_type": "markdown",
      "source": [
        "이 튜토리얼에서는 TensorFlow를 사용한 시계열 예측을 소개합니다. Convolutional/Recurrent Neural Network(CNN 및 RNN)를 포함하여 몇 가지 다른 스타일의 모델을 빌드합니다.\n",
        "\n",
        "이 내용은 각각 하위 항목이 있는 두 부분으로 나누어 생각합니다.\n",
        "\n",
        "- 단일 타임스텝 예측:\n",
        "    - 단일 특성\n",
        "    - 모든 특성\n",
        "- 다중 스텝 예측:\n",
        "    - 싱글샷: 모두 한 번에 예측합니다.\n",
        "    - 자가 회귀: 한 번에 하나의 예측을 수행하고 결과를 모델로 피드백합니다."
      ],
      "metadata": {
        "id": "dA4hVQ8rKg_F"
      }
    },
    {
      "cell_type": "markdown",
      "source": [
        "## Setting"
      ],
      "metadata": {
        "id": "WmncP_5KKmQZ"
      }
    },
    {
      "cell_type": "code",
      "source": [
        "import os\n",
        "import datetime\n",
        "\n",
        "import IPython\n",
        "import IPython.display\n",
        "import matplotlib as mpl\n",
        "import matplotlib.pyplot as plt\n",
        "import numpy as np\n",
        "import pandas as pd\n",
        "import seaborn as sns\n",
        "import tensorflow as tf\n",
        "\n",
        "mpl.rcParams['figure.figsize'] = (8, 6)\n",
        "mpl.rcParams['axes.grid'] = False\n"
      ],
      "metadata": {
        "id": "O0FeXpmHKauN"
      },
      "execution_count": 1,
      "outputs": []
    },
    {
      "cell_type": "markdown",
      "source": [
        "## Load Dataset\n",
        "\n",
        "## 날씨 데이터세트\n",
        "\n",
        "이 튜토리얼은 <a class=\"external\" href=\"https://www.bgc-jena.mpg.de/wetter/\">막스 플랑크 생물 지구화학 연구소</a>에서 기록한 <a class=\"external\" href=\"https://www.bgc-jena.mpg.de\">날씨 시계열 데이터세트</a>를 사용합니다.\n",
        "\n",
        "이 데이터세트에는 온도, 대기압 및 습도와 같은 14가지 특성이 있습니다. 이러한 데이터는 2003년부터 시작해 10분 간격으로 수집되었습니다. 효율성을 위해 2009년과 2016년 사이에 수집된 데이터만 사용하겠습니다. 이 데이터세트 부분은 François Chollet이 자신이 저술한 책 [Deep Learning with Python](https://www.manning.com/books/deep-learning-with-python)을 위해 준비했습니다."
      ],
      "metadata": {
        "id": "sgWHrC3yL0Tt"
      }
    },
    {
      "cell_type": "code",
      "source": [
        "zip_path = tf.keras.utils.get_file(\n",
        "    origin='https://storage.googleapis.com/tensorflow/tf-keras-datasets/jena_climate_2009_2016.csv.zip',\n",
        "    fname='jena_climate_2009_2016.csv.zip',\n",
        "    extract=True)\n",
        "csv_path, _ = os.path.splitext(zip_path)"
      ],
      "metadata": {
        "colab": {
          "base_uri": "https://localhost:8080/"
        },
        "id": "OvJpPT-HMA-q",
        "outputId": "a172335f-35a0-4e3e-bc86-57e5f36e05a2"
      },
      "execution_count": 2,
      "outputs": [
        {
          "output_type": "stream",
          "name": "stdout",
          "text": [
            "Downloading data from https://storage.googleapis.com/tensorflow/tf-keras-datasets/jena_climate_2009_2016.csv.zip\n",
            "13574144/13568290 [==============================] - 0s 0us/step\n",
            "13582336/13568290 [==============================] - 0s 0us/step\n"
          ]
        }
      ]
    },
    {
      "cell_type": "markdown",
      "source": [
        "이 튜토리얼은 **시간별 예측**만 다루므로 10분 간격부터 1시간까지 데이터를 서브 샘플링하는 것으로 시작합니다."
      ],
      "metadata": {
        "id": "CwTOuAVKMLta"
      }
    },
    {
      "cell_type": "code",
      "source": [
        "df = pd.read_csv(csv_path)\n",
        "display(df.head())\n",
        "\n",
        "# slice [start:stop:step], starting from index 5 take every 6th record.\n",
        "df = df[5::6]\n",
        "\n",
        "date_time = pd.to_datetime(df.pop('Date Time'), format='%d.%m.%Y %H:%M:%S')"
      ],
      "metadata": {
        "colab": {
          "base_uri": "https://localhost:8080/",
          "height": 392
        },
        "id": "clKV7EUQMMkK",
        "outputId": "2fb2b0a5-8bee-4973-b4b9-18edec4d7a27"
      },
      "execution_count": 4,
      "outputs": [
        {
          "output_type": "display_data",
          "data": {
            "text/plain": [
              "             Date Time  p (mbar)  T (degC)  Tpot (K)  Tdew (degC)  rh (%)  \\\n",
              "0  01.01.2009 00:10:00    996.52     -8.02    265.40        -8.90    93.3   \n",
              "1  01.01.2009 00:20:00    996.57     -8.41    265.01        -9.28    93.4   \n",
              "2  01.01.2009 00:30:00    996.53     -8.51    264.91        -9.31    93.9   \n",
              "3  01.01.2009 00:40:00    996.51     -8.31    265.12        -9.07    94.2   \n",
              "4  01.01.2009 00:50:00    996.51     -8.27    265.15        -9.04    94.1   \n",
              "\n",
              "   VPmax (mbar)  VPact (mbar)  VPdef (mbar)  sh (g/kg)  H2OC (mmol/mol)  \\\n",
              "0          3.33          3.11          0.22       1.94             3.12   \n",
              "1          3.23          3.02          0.21       1.89             3.03   \n",
              "2          3.21          3.01          0.20       1.88             3.02   \n",
              "3          3.26          3.07          0.19       1.92             3.08   \n",
              "4          3.27          3.08          0.19       1.92             3.09   \n",
              "\n",
              "   rho (g/m**3)  wv (m/s)  max. wv (m/s)  wd (deg)  \n",
              "0       1307.75      1.03           1.75     152.3  \n",
              "1       1309.80      0.72           1.50     136.1  \n",
              "2       1310.24      0.19           0.63     171.6  \n",
              "3       1309.19      0.34           0.50     198.0  \n",
              "4       1309.00      0.32           0.63     214.3  "
            ],
            "text/html": [
              "\n",
              "  <div id=\"df-72bd9c0a-f19e-4df7-85d0-38dd051963b0\">\n",
              "    <div class=\"colab-df-container\">\n",
              "      <div>\n",
              "<style scoped>\n",
              "    .dataframe tbody tr th:only-of-type {\n",
              "        vertical-align: middle;\n",
              "    }\n",
              "\n",
              "    .dataframe tbody tr th {\n",
              "        vertical-align: top;\n",
              "    }\n",
              "\n",
              "    .dataframe thead th {\n",
              "        text-align: right;\n",
              "    }\n",
              "</style>\n",
              "<table border=\"1\" class=\"dataframe\">\n",
              "  <thead>\n",
              "    <tr style=\"text-align: right;\">\n",
              "      <th></th>\n",
              "      <th>Date Time</th>\n",
              "      <th>p (mbar)</th>\n",
              "      <th>T (degC)</th>\n",
              "      <th>Tpot (K)</th>\n",
              "      <th>Tdew (degC)</th>\n",
              "      <th>rh (%)</th>\n",
              "      <th>VPmax (mbar)</th>\n",
              "      <th>VPact (mbar)</th>\n",
              "      <th>VPdef (mbar)</th>\n",
              "      <th>sh (g/kg)</th>\n",
              "      <th>H2OC (mmol/mol)</th>\n",
              "      <th>rho (g/m**3)</th>\n",
              "      <th>wv (m/s)</th>\n",
              "      <th>max. wv (m/s)</th>\n",
              "      <th>wd (deg)</th>\n",
              "    </tr>\n",
              "  </thead>\n",
              "  <tbody>\n",
              "    <tr>\n",
              "      <th>0</th>\n",
              "      <td>01.01.2009 00:10:00</td>\n",
              "      <td>996.52</td>\n",
              "      <td>-8.02</td>\n",
              "      <td>265.40</td>\n",
              "      <td>-8.90</td>\n",
              "      <td>93.3</td>\n",
              "      <td>3.33</td>\n",
              "      <td>3.11</td>\n",
              "      <td>0.22</td>\n",
              "      <td>1.94</td>\n",
              "      <td>3.12</td>\n",
              "      <td>1307.75</td>\n",
              "      <td>1.03</td>\n",
              "      <td>1.75</td>\n",
              "      <td>152.3</td>\n",
              "    </tr>\n",
              "    <tr>\n",
              "      <th>1</th>\n",
              "      <td>01.01.2009 00:20:00</td>\n",
              "      <td>996.57</td>\n",
              "      <td>-8.41</td>\n",
              "      <td>265.01</td>\n",
              "      <td>-9.28</td>\n",
              "      <td>93.4</td>\n",
              "      <td>3.23</td>\n",
              "      <td>3.02</td>\n",
              "      <td>0.21</td>\n",
              "      <td>1.89</td>\n",
              "      <td>3.03</td>\n",
              "      <td>1309.80</td>\n",
              "      <td>0.72</td>\n",
              "      <td>1.50</td>\n",
              "      <td>136.1</td>\n",
              "    </tr>\n",
              "    <tr>\n",
              "      <th>2</th>\n",
              "      <td>01.01.2009 00:30:00</td>\n",
              "      <td>996.53</td>\n",
              "      <td>-8.51</td>\n",
              "      <td>264.91</td>\n",
              "      <td>-9.31</td>\n",
              "      <td>93.9</td>\n",
              "      <td>3.21</td>\n",
              "      <td>3.01</td>\n",
              "      <td>0.20</td>\n",
              "      <td>1.88</td>\n",
              "      <td>3.02</td>\n",
              "      <td>1310.24</td>\n",
              "      <td>0.19</td>\n",
              "      <td>0.63</td>\n",
              "      <td>171.6</td>\n",
              "    </tr>\n",
              "    <tr>\n",
              "      <th>3</th>\n",
              "      <td>01.01.2009 00:40:00</td>\n",
              "      <td>996.51</td>\n",
              "      <td>-8.31</td>\n",
              "      <td>265.12</td>\n",
              "      <td>-9.07</td>\n",
              "      <td>94.2</td>\n",
              "      <td>3.26</td>\n",
              "      <td>3.07</td>\n",
              "      <td>0.19</td>\n",
              "      <td>1.92</td>\n",
              "      <td>3.08</td>\n",
              "      <td>1309.19</td>\n",
              "      <td>0.34</td>\n",
              "      <td>0.50</td>\n",
              "      <td>198.0</td>\n",
              "    </tr>\n",
              "    <tr>\n",
              "      <th>4</th>\n",
              "      <td>01.01.2009 00:50:00</td>\n",
              "      <td>996.51</td>\n",
              "      <td>-8.27</td>\n",
              "      <td>265.15</td>\n",
              "      <td>-9.04</td>\n",
              "      <td>94.1</td>\n",
              "      <td>3.27</td>\n",
              "      <td>3.08</td>\n",
              "      <td>0.19</td>\n",
              "      <td>1.92</td>\n",
              "      <td>3.09</td>\n",
              "      <td>1309.00</td>\n",
              "      <td>0.32</td>\n",
              "      <td>0.63</td>\n",
              "      <td>214.3</td>\n",
              "    </tr>\n",
              "  </tbody>\n",
              "</table>\n",
              "</div>\n",
              "      <button class=\"colab-df-convert\" onclick=\"convertToInteractive('df-72bd9c0a-f19e-4df7-85d0-38dd051963b0')\"\n",
              "              title=\"Convert this dataframe to an interactive table.\"\n",
              "              style=\"display:none;\">\n",
              "        \n",
              "  <svg xmlns=\"http://www.w3.org/2000/svg\" height=\"24px\"viewBox=\"0 0 24 24\"\n",
              "       width=\"24px\">\n",
              "    <path d=\"M0 0h24v24H0V0z\" fill=\"none\"/>\n",
              "    <path d=\"M18.56 5.44l.94 2.06.94-2.06 2.06-.94-2.06-.94-.94-2.06-.94 2.06-2.06.94zm-11 1L8.5 8.5l.94-2.06 2.06-.94-2.06-.94L8.5 2.5l-.94 2.06-2.06.94zm10 10l.94 2.06.94-2.06 2.06-.94-2.06-.94-.94-2.06-.94 2.06-2.06.94z\"/><path d=\"M17.41 7.96l-1.37-1.37c-.4-.4-.92-.59-1.43-.59-.52 0-1.04.2-1.43.59L10.3 9.45l-7.72 7.72c-.78.78-.78 2.05 0 2.83L4 21.41c.39.39.9.59 1.41.59.51 0 1.02-.2 1.41-.59l7.78-7.78 2.81-2.81c.8-.78.8-2.07 0-2.86zM5.41 20L4 18.59l7.72-7.72 1.47 1.35L5.41 20z\"/>\n",
              "  </svg>\n",
              "      </button>\n",
              "      \n",
              "  <style>\n",
              "    .colab-df-container {\n",
              "      display:flex;\n",
              "      flex-wrap:wrap;\n",
              "      gap: 12px;\n",
              "    }\n",
              "\n",
              "    .colab-df-convert {\n",
              "      background-color: #E8F0FE;\n",
              "      border: none;\n",
              "      border-radius: 50%;\n",
              "      cursor: pointer;\n",
              "      display: none;\n",
              "      fill: #1967D2;\n",
              "      height: 32px;\n",
              "      padding: 0 0 0 0;\n",
              "      width: 32px;\n",
              "    }\n",
              "\n",
              "    .colab-df-convert:hover {\n",
              "      background-color: #E2EBFA;\n",
              "      box-shadow: 0px 1px 2px rgba(60, 64, 67, 0.3), 0px 1px 3px 1px rgba(60, 64, 67, 0.15);\n",
              "      fill: #174EA6;\n",
              "    }\n",
              "\n",
              "    [theme=dark] .colab-df-convert {\n",
              "      background-color: #3B4455;\n",
              "      fill: #D2E3FC;\n",
              "    }\n",
              "\n",
              "    [theme=dark] .colab-df-convert:hover {\n",
              "      background-color: #434B5C;\n",
              "      box-shadow: 0px 1px 3px 1px rgba(0, 0, 0, 0.15);\n",
              "      filter: drop-shadow(0px 1px 2px rgba(0, 0, 0, 0.3));\n",
              "      fill: #FFFFFF;\n",
              "    }\n",
              "  </style>\n",
              "\n",
              "      <script>\n",
              "        const buttonEl =\n",
              "          document.querySelector('#df-72bd9c0a-f19e-4df7-85d0-38dd051963b0 button.colab-df-convert');\n",
              "        buttonEl.style.display =\n",
              "          google.colab.kernel.accessAllowed ? 'block' : 'none';\n",
              "\n",
              "        async function convertToInteractive(key) {\n",
              "          const element = document.querySelector('#df-72bd9c0a-f19e-4df7-85d0-38dd051963b0');\n",
              "          const dataTable =\n",
              "            await google.colab.kernel.invokeFunction('convertToInteractive',\n",
              "                                                     [key], {});\n",
              "          if (!dataTable) return;\n",
              "\n",
              "          const docLinkHtml = 'Like what you see? Visit the ' +\n",
              "            '<a target=\"_blank\" href=https://colab.research.google.com/notebooks/data_table.ipynb>data table notebook</a>'\n",
              "            + ' to learn more about interactive tables.';\n",
              "          element.innerHTML = '';\n",
              "          dataTable['output_type'] = 'display_data';\n",
              "          await google.colab.output.renderOutput(dataTable, element);\n",
              "          const docLink = document.createElement('div');\n",
              "          docLink.innerHTML = docLinkHtml;\n",
              "          element.appendChild(docLink);\n",
              "        }\n",
              "      </script>\n",
              "    </div>\n",
              "  </div>\n",
              "  "
            ]
          },
          "metadata": {}
        }
      ]
    },
    {
      "cell_type": "code",
      "source": [
        "display(df.head())\n",
        "display(date_time.head())"
      ],
      "metadata": {
        "colab": {
          "base_uri": "https://localhost:8080/",
          "height": 415
        },
        "id": "fsYXkLeAMip1",
        "outputId": "15414bbb-7ae0-4d51-b63c-9f5d45e3c2ba"
      },
      "execution_count": 6,
      "outputs": [
        {
          "output_type": "display_data",
          "data": {
            "text/plain": [
              "    p (mbar)  T (degC)  Tpot (K)  Tdew (degC)  rh (%)  VPmax (mbar)  \\\n",
              "5     996.50     -8.05    265.38        -8.78    94.4          3.33   \n",
              "11    996.62     -8.88    264.54        -9.77    93.2          3.12   \n",
              "17    996.84     -8.81    264.59        -9.66    93.5          3.13   \n",
              "23    996.99     -9.05    264.34       -10.02    92.6          3.07   \n",
              "29    997.46     -9.63    263.72       -10.65    92.2          2.94   \n",
              "\n",
              "    VPact (mbar)  VPdef (mbar)  sh (g/kg)  H2OC (mmol/mol)  rho (g/m**3)  \\\n",
              "5           3.14          0.19       1.96             3.15       1307.86   \n",
              "11          2.90          0.21       1.81             2.91       1312.25   \n",
              "17          2.93          0.20       1.83             2.94       1312.18   \n",
              "23          2.85          0.23       1.78             2.85       1313.61   \n",
              "29          2.71          0.23       1.69             2.71       1317.19   \n",
              "\n",
              "    wv (m/s)  max. wv (m/s)  wd (deg)  \n",
              "5       0.21           0.63     192.7  \n",
              "11      0.25           0.63     190.3  \n",
              "17      0.18           0.63     167.2  \n",
              "23      0.10           0.38     240.0  \n",
              "29      0.40           0.88     157.0  "
            ],
            "text/html": [
              "\n",
              "  <div id=\"df-5f8a5f37-03c0-4b65-9f7c-3e2a860fd9e4\">\n",
              "    <div class=\"colab-df-container\">\n",
              "      <div>\n",
              "<style scoped>\n",
              "    .dataframe tbody tr th:only-of-type {\n",
              "        vertical-align: middle;\n",
              "    }\n",
              "\n",
              "    .dataframe tbody tr th {\n",
              "        vertical-align: top;\n",
              "    }\n",
              "\n",
              "    .dataframe thead th {\n",
              "        text-align: right;\n",
              "    }\n",
              "</style>\n",
              "<table border=\"1\" class=\"dataframe\">\n",
              "  <thead>\n",
              "    <tr style=\"text-align: right;\">\n",
              "      <th></th>\n",
              "      <th>p (mbar)</th>\n",
              "      <th>T (degC)</th>\n",
              "      <th>Tpot (K)</th>\n",
              "      <th>Tdew (degC)</th>\n",
              "      <th>rh (%)</th>\n",
              "      <th>VPmax (mbar)</th>\n",
              "      <th>VPact (mbar)</th>\n",
              "      <th>VPdef (mbar)</th>\n",
              "      <th>sh (g/kg)</th>\n",
              "      <th>H2OC (mmol/mol)</th>\n",
              "      <th>rho (g/m**3)</th>\n",
              "      <th>wv (m/s)</th>\n",
              "      <th>max. wv (m/s)</th>\n",
              "      <th>wd (deg)</th>\n",
              "    </tr>\n",
              "  </thead>\n",
              "  <tbody>\n",
              "    <tr>\n",
              "      <th>5</th>\n",
              "      <td>996.50</td>\n",
              "      <td>-8.05</td>\n",
              "      <td>265.38</td>\n",
              "      <td>-8.78</td>\n",
              "      <td>94.4</td>\n",
              "      <td>3.33</td>\n",
              "      <td>3.14</td>\n",
              "      <td>0.19</td>\n",
              "      <td>1.96</td>\n",
              "      <td>3.15</td>\n",
              "      <td>1307.86</td>\n",
              "      <td>0.21</td>\n",
              "      <td>0.63</td>\n",
              "      <td>192.7</td>\n",
              "    </tr>\n",
              "    <tr>\n",
              "      <th>11</th>\n",
              "      <td>996.62</td>\n",
              "      <td>-8.88</td>\n",
              "      <td>264.54</td>\n",
              "      <td>-9.77</td>\n",
              "      <td>93.2</td>\n",
              "      <td>3.12</td>\n",
              "      <td>2.90</td>\n",
              "      <td>0.21</td>\n",
              "      <td>1.81</td>\n",
              "      <td>2.91</td>\n",
              "      <td>1312.25</td>\n",
              "      <td>0.25</td>\n",
              "      <td>0.63</td>\n",
              "      <td>190.3</td>\n",
              "    </tr>\n",
              "    <tr>\n",
              "      <th>17</th>\n",
              "      <td>996.84</td>\n",
              "      <td>-8.81</td>\n",
              "      <td>264.59</td>\n",
              "      <td>-9.66</td>\n",
              "      <td>93.5</td>\n",
              "      <td>3.13</td>\n",
              "      <td>2.93</td>\n",
              "      <td>0.20</td>\n",
              "      <td>1.83</td>\n",
              "      <td>2.94</td>\n",
              "      <td>1312.18</td>\n",
              "      <td>0.18</td>\n",
              "      <td>0.63</td>\n",
              "      <td>167.2</td>\n",
              "    </tr>\n",
              "    <tr>\n",
              "      <th>23</th>\n",
              "      <td>996.99</td>\n",
              "      <td>-9.05</td>\n",
              "      <td>264.34</td>\n",
              "      <td>-10.02</td>\n",
              "      <td>92.6</td>\n",
              "      <td>3.07</td>\n",
              "      <td>2.85</td>\n",
              "      <td>0.23</td>\n",
              "      <td>1.78</td>\n",
              "      <td>2.85</td>\n",
              "      <td>1313.61</td>\n",
              "      <td>0.10</td>\n",
              "      <td>0.38</td>\n",
              "      <td>240.0</td>\n",
              "    </tr>\n",
              "    <tr>\n",
              "      <th>29</th>\n",
              "      <td>997.46</td>\n",
              "      <td>-9.63</td>\n",
              "      <td>263.72</td>\n",
              "      <td>-10.65</td>\n",
              "      <td>92.2</td>\n",
              "      <td>2.94</td>\n",
              "      <td>2.71</td>\n",
              "      <td>0.23</td>\n",
              "      <td>1.69</td>\n",
              "      <td>2.71</td>\n",
              "      <td>1317.19</td>\n",
              "      <td>0.40</td>\n",
              "      <td>0.88</td>\n",
              "      <td>157.0</td>\n",
              "    </tr>\n",
              "  </tbody>\n",
              "</table>\n",
              "</div>\n",
              "      <button class=\"colab-df-convert\" onclick=\"convertToInteractive('df-5f8a5f37-03c0-4b65-9f7c-3e2a860fd9e4')\"\n",
              "              title=\"Convert this dataframe to an interactive table.\"\n",
              "              style=\"display:none;\">\n",
              "        \n",
              "  <svg xmlns=\"http://www.w3.org/2000/svg\" height=\"24px\"viewBox=\"0 0 24 24\"\n",
              "       width=\"24px\">\n",
              "    <path d=\"M0 0h24v24H0V0z\" fill=\"none\"/>\n",
              "    <path d=\"M18.56 5.44l.94 2.06.94-2.06 2.06-.94-2.06-.94-.94-2.06-.94 2.06-2.06.94zm-11 1L8.5 8.5l.94-2.06 2.06-.94-2.06-.94L8.5 2.5l-.94 2.06-2.06.94zm10 10l.94 2.06.94-2.06 2.06-.94-2.06-.94-.94-2.06-.94 2.06-2.06.94z\"/><path d=\"M17.41 7.96l-1.37-1.37c-.4-.4-.92-.59-1.43-.59-.52 0-1.04.2-1.43.59L10.3 9.45l-7.72 7.72c-.78.78-.78 2.05 0 2.83L4 21.41c.39.39.9.59 1.41.59.51 0 1.02-.2 1.41-.59l7.78-7.78 2.81-2.81c.8-.78.8-2.07 0-2.86zM5.41 20L4 18.59l7.72-7.72 1.47 1.35L5.41 20z\"/>\n",
              "  </svg>\n",
              "      </button>\n",
              "      \n",
              "  <style>\n",
              "    .colab-df-container {\n",
              "      display:flex;\n",
              "      flex-wrap:wrap;\n",
              "      gap: 12px;\n",
              "    }\n",
              "\n",
              "    .colab-df-convert {\n",
              "      background-color: #E8F0FE;\n",
              "      border: none;\n",
              "      border-radius: 50%;\n",
              "      cursor: pointer;\n",
              "      display: none;\n",
              "      fill: #1967D2;\n",
              "      height: 32px;\n",
              "      padding: 0 0 0 0;\n",
              "      width: 32px;\n",
              "    }\n",
              "\n",
              "    .colab-df-convert:hover {\n",
              "      background-color: #E2EBFA;\n",
              "      box-shadow: 0px 1px 2px rgba(60, 64, 67, 0.3), 0px 1px 3px 1px rgba(60, 64, 67, 0.15);\n",
              "      fill: #174EA6;\n",
              "    }\n",
              "\n",
              "    [theme=dark] .colab-df-convert {\n",
              "      background-color: #3B4455;\n",
              "      fill: #D2E3FC;\n",
              "    }\n",
              "\n",
              "    [theme=dark] .colab-df-convert:hover {\n",
              "      background-color: #434B5C;\n",
              "      box-shadow: 0px 1px 3px 1px rgba(0, 0, 0, 0.15);\n",
              "      filter: drop-shadow(0px 1px 2px rgba(0, 0, 0, 0.3));\n",
              "      fill: #FFFFFF;\n",
              "    }\n",
              "  </style>\n",
              "\n",
              "      <script>\n",
              "        const buttonEl =\n",
              "          document.querySelector('#df-5f8a5f37-03c0-4b65-9f7c-3e2a860fd9e4 button.colab-df-convert');\n",
              "        buttonEl.style.display =\n",
              "          google.colab.kernel.accessAllowed ? 'block' : 'none';\n",
              "\n",
              "        async function convertToInteractive(key) {\n",
              "          const element = document.querySelector('#df-5f8a5f37-03c0-4b65-9f7c-3e2a860fd9e4');\n",
              "          const dataTable =\n",
              "            await google.colab.kernel.invokeFunction('convertToInteractive',\n",
              "                                                     [key], {});\n",
              "          if (!dataTable) return;\n",
              "\n",
              "          const docLinkHtml = 'Like what you see? Visit the ' +\n",
              "            '<a target=\"_blank\" href=https://colab.research.google.com/notebooks/data_table.ipynb>data table notebook</a>'\n",
              "            + ' to learn more about interactive tables.';\n",
              "          element.innerHTML = '';\n",
              "          dataTable['output_type'] = 'display_data';\n",
              "          await google.colab.output.renderOutput(dataTable, element);\n",
              "          const docLink = document.createElement('div');\n",
              "          docLink.innerHTML = docLinkHtml;\n",
              "          element.appendChild(docLink);\n",
              "        }\n",
              "      </script>\n",
              "    </div>\n",
              "  </div>\n",
              "  "
            ]
          },
          "metadata": {}
        },
        {
          "output_type": "display_data",
          "data": {
            "text/plain": [
              "5    2009-01-01 01:00:00\n",
              "11   2009-01-01 02:00:00\n",
              "17   2009-01-01 03:00:00\n",
              "23   2009-01-01 04:00:00\n",
              "29   2009-01-01 05:00:00\n",
              "Name: Date Time, dtype: datetime64[ns]"
            ]
          },
          "metadata": {}
        }
      ]
    },
    {
      "cell_type": "code",
      "source": [
        "# 시간에 따른 변수 Trend Plotting\n",
        "plot_cols = ['T (degC)', 'p (mbar)', 'rho (g/m**3)']\n",
        "plot_features = df[plot_cols]\n",
        "plot_features.index = date_time\n",
        "_ = plot_features.plot(subplots = True)\n",
        "\n",
        "print('df[plot_cols][:480] - 처음 480개의 데이터만 plotting')\n",
        "print('KH- subplots = True/False 차이 확인하기')\n",
        "plot_features = df[plot_cols][:480]\n",
        "plot_features.index = date_time[:480]\n",
        "_ = plot_features.plot(subplots = False)\n",
        "_ = plot_features.plot(subplots = True)"
      ],
      "metadata": {
        "colab": {
          "base_uri": "https://localhost:8080/",
          "height": 874
        },
        "id": "GtUTLKNbM3iI",
        "outputId": "35f89f0e-c464-44c6-8f15-d3b2c6fc14b4"
      },
      "execution_count": 12,
      "outputs": [
        {
          "output_type": "stream",
          "name": "stdout",
          "text": [
            "df[plot_cols][:480] - 처음 480개의 데이터만 plotting\n",
            "KH- subplots = True/False 차이 확인하기\n"
          ]
        },
        {
          "output_type": "display_data",
          "data": {
            "text/plain": [
              "<Figure size 432x288 with 3 Axes>"
            ],
            "image/png": "[encoded data removed]"
          },
          "metadata": {
            "needs_background": "light"
          }
        },
        {
          "output_type": "display_data",
          "data": {
            "text/plain": [
              "<Figure size 432x288 with 1 Axes>"
            ],
            "image/png": "[encoded data removed]"
          },
          "metadata": {
            "needs_background": "light"
          }
        },
        {
          "output_type": "display_data",
          "data": {
            "text/plain": [
              "<Figure size 432x288 with 3 Axes>"
            ],
            "image/png": "[encoded data removed]"
          },
          "metadata": {
            "needs_background": "light"
          }
        }
      ]
    },
    {
      "cell_type": "markdown",
      "source": [
        "## EDA & 전처리\n",
        "\n",
        "## 검사 및 정리하기\n",
        "\n",
        "*다음으로* 데이터세트의 통계를 살펴봅니다."
      ],
      "metadata": {
        "id": "s8HuU7CIOHPE"
      }
    },
    {
      "cell_type": "code",
      "source": [
        "df.describe().transpose()"
      ],
      "metadata": {
        "colab": {
          "base_uri": "https://localhost:8080/",
          "height": 488
        },
        "id": "8gOTgJJCOPNW",
        "outputId": "5855e444-9db0-4034-bd75-f80ede792306"
      },
      "execution_count": 13,
      "outputs": [
        {
          "output_type": "execute_result",
          "data": {
            "text/plain": [
              "                   count         mean        std      min      25%      50%  \\\n",
              "p (mbar)         70091.0   989.212842   8.358886   913.60   984.20   989.57   \n",
              "T (degC)         70091.0     9.450482   8.423384   -22.76     3.35     9.41   \n",
              "Tpot (K)         70091.0   283.493086   8.504424   250.85   277.44   283.46   \n",
              "Tdew (degC)      70091.0     4.956471   6.730081   -24.80     0.24     5.21   \n",
              "rh (%)           70091.0    76.009788  16.474920    13.88    65.21    79.30   \n",
              "VPmax (mbar)     70091.0    13.576576   7.739883     0.97     7.77    11.82   \n",
              "VPact (mbar)     70091.0     9.533968   4.183658     0.81     6.22     8.86   \n",
              "VPdef (mbar)     70091.0     4.042536   4.898549     0.00     0.87     2.19   \n",
              "sh (g/kg)        70091.0     6.022560   2.655812     0.51     3.92     5.59   \n",
              "H2OC (mmol/mol)  70091.0     9.640437   4.234862     0.81     6.29     8.96   \n",
              "rho (g/m**3)     70091.0  1216.061232  39.974263  1059.45  1187.47  1213.80   \n",
              "wv (m/s)         70091.0     1.702567  65.447512 -9999.00     0.99     1.76   \n",
              "max. wv (m/s)    70091.0     2.963041  75.597657 -9999.00     1.76     2.98   \n",
              "wd (deg)         70091.0   174.789095  86.619431     0.00   125.30   198.10   \n",
              "\n",
              "                      75%      max  \n",
              "p (mbar)          994.720  1015.29  \n",
              "T (degC)           15.480    37.28  \n",
              "Tpot (K)          289.530   311.21  \n",
              "Tdew (degC)        10.080    23.06  \n",
              "rh (%)             89.400   100.00  \n",
              "VPmax (mbar)       17.610    63.77  \n",
              "VPact (mbar)       12.360    28.25  \n",
              "VPdef (mbar)        5.300    46.01  \n",
              "sh (g/kg)           7.800    18.07  \n",
              "H2OC (mmol/mol)    12.490    28.74  \n",
              "rho (g/m**3)     1242.765  1393.54  \n",
              "wv (m/s)            2.860    14.01  \n",
              "max. wv (m/s)       4.740    23.50  \n",
              "wd (deg)          234.000   360.00  "
            ],
            "text/html": [
              "\n",
              "  <div id=\"df-3ba22c33-b1a2-4a53-b2a3-0fa68579fdd2\">\n",
              "    <div class=\"colab-df-container\">\n",
              "      <div>\n",
              "<style scoped>\n",
              "    .dataframe tbody tr th:only-of-type {\n",
              "        vertical-align: middle;\n",
              "    }\n",
              "\n",
              "    .dataframe tbody tr th {\n",
              "        vertical-align: top;\n",
              "    }\n",
              "\n",
              "    .dataframe thead th {\n",
              "        text-align: right;\n",
              "    }\n",
              "</style>\n",
              "<table border=\"1\" class=\"dataframe\">\n",
              "  <thead>\n",
              "    <tr style=\"text-align: right;\">\n",
              "      <th></th>\n",
              "      <th>count</th>\n",
              "      <th>mean</th>\n",
              "      <th>std</th>\n",
              "      <th>min</th>\n",
              "      <th>25%</th>\n",
              "      <th>50%</th>\n",
              "      <th>75%</th>\n",
              "      <th>max</th>\n",
              "    </tr>\n",
              "  </thead>\n",
              "  <tbody>\n",
              "    <tr>\n",
              "      <th>p (mbar)</th>\n",
              "      <td>70091.0</td>\n",
              "      <td>989.212842</td>\n",
              "      <td>8.358886</td>\n",
              "      <td>913.60</td>\n",
              "      <td>984.20</td>\n",
              "      <td>989.57</td>\n",
              "      <td>994.720</td>\n",
              "      <td>1015.29</td>\n",
              "    </tr>\n",
              "    <tr>\n",
              "      <th>T (degC)</th>\n",
              "      <td>70091.0</td>\n",
              "      <td>9.450482</td>\n",
              "      <td>8.423384</td>\n",
              "      <td>-22.76</td>\n",
              "      <td>3.35</td>\n",
              "      <td>9.41</td>\n",
              "      <td>15.480</td>\n",
              "      <td>37.28</td>\n",
              "    </tr>\n",
              "    <tr>\n",
              "      <th>Tpot (K)</th>\n",
              "      <td>70091.0</td>\n",
              "      <td>283.493086</td>\n",
              "      <td>8.504424</td>\n",
              "      <td>250.85</td>\n",
              "      <td>277.44</td>\n",
              "      <td>283.46</td>\n",
              "      <td>289.530</td>\n",
              "      <td>311.21</td>\n",
              "    </tr>\n",
              "    <tr>\n",
              "      <th>Tdew (degC)</th>\n",
              "      <td>70091.0</td>\n",
              "      <td>4.956471</td>\n",
              "      <td>6.730081</td>\n",
              "      <td>-24.80</td>\n",
              "      <td>0.24</td>\n",
              "      <td>5.21</td>\n",
              "      <td>10.080</td>\n",
              "      <td>23.06</td>\n",
              "    </tr>\n",
              "    <tr>\n",
              "      <th>rh (%)</th>\n",
              "      <td>70091.0</td>\n",
              "      <td>76.009788</td>\n",
              "      <td>16.474920</td>\n",
              "      <td>13.88</td>\n",
              "      <td>65.21</td>\n",
              "      <td>79.30</td>\n",
              "      <td>89.400</td>\n",
              "      <td>100.00</td>\n",
              "    </tr>\n",
              "    <tr>\n",
              "      <th>VPmax (mbar)</th>\n",
              "      <td>70091.0</td>\n",
              "      <td>13.576576</td>\n",
              "      <td>7.739883</td>\n",
              "      <td>0.97</td>\n",
              "      <td>7.77</td>\n",
              "      <td>11.82</td>\n",
              "      <td>17.610</td>\n",
              "      <td>63.77</td>\n",
              "    </tr>\n",
              "    <tr>\n",
              "      <th>VPact (mbar)</th>\n",
              "      <td>70091.0</td>\n",
              "      <td>9.533968</td>\n",
              "      <td>4.183658</td>\n",
              "      <td>0.81</td>\n",
              "      <td>6.22</td>\n",
              "      <td>8.86</td>\n",
              "      <td>12.360</td>\n",
              "      <td>28.25</td>\n",
              "    </tr>\n",
              "    <tr>\n",
              "      <th>VPdef (mbar)</th>\n",
              "      <td>70091.0</td>\n",
              "      <td>4.042536</td>\n",
              "      <td>4.898549</td>\n",
              "      <td>0.00</td>\n",
              "      <td>0.87</td>\n",
              "      <td>2.19</td>\n",
              "      <td>5.300</td>\n",
              "      <td>46.01</td>\n",
              "    </tr>\n",
              "    <tr>\n",
              "      <th>sh (g/kg)</th>\n",
              "      <td>70091.0</td>\n",
              "      <td>6.022560</td>\n",
              "      <td>2.655812</td>\n",
              "      <td>0.51</td>\n",
              "      <td>3.92</td>\n",
              "      <td>5.59</td>\n",
              "      <td>7.800</td>\n",
              "      <td>18.07</td>\n",
              "    </tr>\n",
              "    <tr>\n",
              "      <th>H2OC (mmol/mol)</th>\n",
              "      <td>70091.0</td>\n",
              "      <td>9.640437</td>\n",
              "      <td>4.234862</td>\n",
              "      <td>0.81</td>\n",
              "      <td>6.29</td>\n",
              "      <td>8.96</td>\n",
              "      <td>12.490</td>\n",
              "      <td>28.74</td>\n",
              "    </tr>\n",
              "    <tr>\n",
              "      <th>rho (g/m**3)</th>\n",
              "      <td>70091.0</td>\n",
              "      <td>1216.061232</td>\n",
              "      <td>39.974263</td>\n",
              "      <td>1059.45</td>\n",
              "      <td>1187.47</td>\n",
              "      <td>1213.80</td>\n",
              "      <td>1242.765</td>\n",
              "      <td>1393.54</td>\n",
              "    </tr>\n",
              "    <tr>\n",
              "      <th>wv (m/s)</th>\n",
              "      <td>70091.0</td>\n",
              "      <td>1.702567</td>\n",
              "      <td>65.447512</td>\n",
              "      <td>-9999.00</td>\n",
              "      <td>0.99</td>\n",
              "      <td>1.76</td>\n",
              "      <td>2.860</td>\n",
              "      <td>14.01</td>\n",
              "    </tr>\n",
              "    <tr>\n",
              "      <th>max. wv (m/s)</th>\n",
              "      <td>70091.0</td>\n",
              "      <td>2.963041</td>\n",
              "      <td>75.597657</td>\n",
              "      <td>-9999.00</td>\n",
              "      <td>1.76</td>\n",
              "      <td>2.98</td>\n",
              "      <td>4.740</td>\n",
              "      <td>23.50</td>\n",
              "    </tr>\n",
              "    <tr>\n",
              "      <th>wd (deg)</th>\n",
              "      <td>70091.0</td>\n",
              "      <td>174.789095</td>\n",
              "      <td>86.619431</td>\n",
              "      <td>0.00</td>\n",
              "      <td>125.30</td>\n",
              "      <td>198.10</td>\n",
              "      <td>234.000</td>\n",
              "      <td>360.00</td>\n",
              "    </tr>\n",
              "  </tbody>\n",
              "</table>\n",
              "</div>\n",
              "      <button class=\"colab-df-convert\" onclick=\"convertToInteractive('df-3ba22c33-b1a2-4a53-b2a3-0fa68579fdd2')\"\n",
              "              title=\"Convert this dataframe to an interactive table.\"\n",
              "              style=\"display:none;\">\n",
              "        \n",
              "  <svg xmlns=\"http://www.w3.org/2000/svg\" height=\"24px\"viewBox=\"0 0 24 24\"\n",
              "       width=\"24px\">\n",
              "    <path d=\"M0 0h24v24H0V0z\" fill=\"none\"/>\n",
              "    <path d=\"M18.56 5.44l.94 2.06.94-2.06 2.06-.94-2.06-.94-.94-2.06-.94 2.06-2.06.94zm-11 1L8.5 8.5l.94-2.06 2.06-.94-2.06-.94L8.5 2.5l-.94 2.06-2.06.94zm10 10l.94 2.06.94-2.06 2.06-.94-2.06-.94-.94-2.06-.94 2.06-2.06.94z\"/><path d=\"M17.41 7.96l-1.37-1.37c-.4-.4-.92-.59-1.43-.59-.52 0-1.04.2-1.43.59L10.3 9.45l-7.72 7.72c-.78.78-.78 2.05 0 2.83L4 21.41c.39.39.9.59 1.41.59.51 0 1.02-.2 1.41-.59l7.78-7.78 2.81-2.81c.8-.78.8-2.07 0-2.86zM5.41 20L4 18.59l7.72-7.72 1.47 1.35L5.41 20z\"/>\n",
              "  </svg>\n",
              "      </button>\n",
              "      \n",
              "  <style>\n",
              "    .colab-df-container {\n",
              "      display:flex;\n",
              "      flex-wrap:wrap;\n",
              "      gap: 12px;\n",
              "    }\n",
              "\n",
              "    .colab-df-convert {\n",
              "      background-color: #E8F0FE;\n",
              "      border: none;\n",
              "      border-radius: 50%;\n",
              "      cursor: pointer;\n",
              "      display: none;\n",
              "      fill: #1967D2;\n",
              "      height: 32px;\n",
              "      padding: 0 0 0 0;\n",
              "      width: 32px;\n",
              "    }\n",
              "\n",
              "    .colab-df-convert:hover {\n",
              "      background-color: #E2EBFA;\n",
              "      box-shadow: 0px 1px 2px rgba(60, 64, 67, 0.3), 0px 1px 3px 1px rgba(60, 64, 67, 0.15);\n",
              "      fill: #174EA6;\n",
              "    }\n",
              "\n",
              "    [theme=dark] .colab-df-convert {\n",
              "      background-color: #3B4455;\n",
              "      fill: #D2E3FC;\n",
              "    }\n",
              "\n",
              "    [theme=dark] .colab-df-convert:hover {\n",
              "      background-color: #434B5C;\n",
              "      box-shadow: 0px 1px 3px 1px rgba(0, 0, 0, 0.15);\n",
              "      filter: drop-shadow(0px 1px 2px rgba(0, 0, 0, 0.3));\n",
              "      fill: #FFFFFF;\n",
              "    }\n",
              "  </style>\n",
              "\n",
              "      <script>\n",
              "        const buttonEl =\n",
              "          document.querySelector('#df-3ba22c33-b1a2-4a53-b2a3-0fa68579fdd2 button.colab-df-convert');\n",
              "        buttonEl.style.display =\n",
              "          google.colab.kernel.accessAllowed ? 'block' : 'none';\n",
              "\n",
              "        async function convertToInteractive(key) {\n",
              "          const element = document.querySelector('#df-3ba22c33-b1a2-4a53-b2a3-0fa68579fdd2');\n",
              "          const dataTable =\n",
              "            await google.colab.kernel.invokeFunction('convertToInteractive',\n",
              "                                                     [key], {});\n",
              "          if (!dataTable) return;\n",
              "\n",
              "          const docLinkHtml = 'Like what you see? Visit the ' +\n",
              "            '<a target=\"_blank\" href=https://colab.research.google.com/notebooks/data_table.ipynb>data table notebook</a>'\n",
              "            + ' to learn more about interactive tables.';\n",
              "          element.innerHTML = '';\n",
              "          dataTable['output_type'] = 'display_data';\n",
              "          await google.colab.output.renderOutput(dataTable, element);\n",
              "          const docLink = document.createElement('div');\n",
              "          docLink.innerHTML = docLinkHtml;\n",
              "          element.appendChild(docLink);\n",
              "        }\n",
              "      </script>\n",
              "    </div>\n",
              "  </div>\n",
              "  "
            ]
          },
          "metadata": {},
          "execution_count": 13
        }
      ]
    },
    {
      "cell_type": "markdown",
      "source": [
        "### 이상치 보정\n",
        "\n",
        "#### 풍속\n",
        "\n",
        "한 가지 주목할 점은 풍속의 `min` 값, `wv (m/s)` 및 `max. wv (m/s)` 열입니다. 이 `-9999`는 문제가 있는 것으로 보입니다. 별도의 풍향 열이 있으므로 속도는 `>=0`여야 합니다. 값을 0으로 대체합니다.\n"
      ],
      "metadata": {
        "id": "vJXgWp_tOwtL"
      }
    },
    {
      "cell_type": "code",
      "source": [
        "wv = df['wv (m/s)']\n",
        "bad_wv = wv == -9999.0 # kh) wv가 -9999.0 이면 true; 조건 값의 소속 여부를 Boolean 값으로 반환\n",
        "print(bad_wv) # kh) 조건 값의 소속 여부를 Boolean 값으로 반환\n",
        "\n",
        "wv[bad_wv] = 0.0 # kh) bad_wv = True 인 행 값을 -> 0.0 으로 대체\n",
        "\n",
        "max_wv = df['max. wv (m/s)']\n",
        "bad_max_wv = max_wv == -9999.0 \n",
        "max_wv[bad_max_wv] = 0.0\n",
        "\n",
        "# The above inplacer edits are reflected in the DataFrame\n",
        "print(df['wv (m/s)'].min())"
      ],
      "metadata": {
        "colab": {
          "base_uri": "https://localhost:8080/"
        },
        "id": "VKBANwqDODMM",
        "outputId": "12a14e68-dbca-4fa8-cc07-6ecef09a9696"
      },
      "execution_count": 15,
      "outputs": [
        {
          "output_type": "stream",
          "name": "stdout",
          "text": [
            "5         False\n",
            "11        False\n",
            "17        False\n",
            "23        False\n",
            "29        False\n",
            "          ...  \n",
            "420521    False\n",
            "420527    False\n",
            "420533    False\n",
            "420539    False\n",
            "420545    False\n",
            "Name: wv (m/s), Length: 70091, dtype: bool\n",
            "0.0\n"
          ]
        }
      ]
    },
    {
      "cell_type": "markdown",
      "source": [
        "### 데이터 변환 - 변수화\n",
        "\n",
        "### 특성 엔지니어링\n",
        "\n",
        "모델을 본격적으로 빌드하기 전에 데이터를 이해하고 모델에 적절한 형식의 데이터를 전달하는 것이 중요합니다."
      ],
      "metadata": {
        "id": "QUNMyPGDQQoQ"
      }
    },
    {
      "cell_type": "markdown",
      "source": [
        "#### 바람\n",
        "\n",
        "데이터의 마지막 열인 `wd (deg)`는 도 단위로 바람의 방향을 나타냅니다. 각도가 있으면 모델 입력으로 좋지 않으므로 360°와 0°는 서로 가까워야 하며 부드럽게 휘어져야 합니다. 바람이 불지 않으면 방향은 중요하지 않습니다.\n",
        "\n",
        "현재, 바람 데이터의 분포는 다음과 같습니다."
      ],
      "metadata": {
        "id": "f00VIBSyQsVk"
      }
    },
    {
      "cell_type": "code",
      "source": [
        "plt.hist2d(df['wd (deg)'], df['wv (m/s)'], bins=(50, 50), vmax=400)\n",
        "plt.colorbar()\n",
        "plt.xlabel('Wind Direction [deg]')\n",
        "plt.ylabel('Wind Velocity [m/s]')"
      ],
      "metadata": {
        "colab": {
          "base_uri": "https://localhost:8080/",
          "height": 301
        },
        "id": "VSkglxxyQvoZ",
        "outputId": "c228e4f2-55c8-402e-8bc5-2cacc87ba388"
      },
      "execution_count": 16,
      "outputs": [
        {
          "output_type": "execute_result",
          "data": {
            "text/plain": [
              "Text(0, 0.5, 'Wind Velocity [m/s]')"
            ]
          },
          "metadata": {},
          "execution_count": 16
        },
        {
          "output_type": "display_data",
          "data": {
            "text/plain": [
              "<Figure size 432x288 with 2 Axes>"
            ],
            "image/png": "[encoded data removed]"
          },
          "metadata": {
            "needs_background": "light"
          }
        }
      ]
    },
    {
      "cell_type": "markdown",
      "source": [
        "그러나 풍향과 속도 열을 바람 **벡터**로 변환하면 모델이 해석하기가 더 쉽습니다.\n"
      ],
      "metadata": {
        "id": "6R4ucQOJRq18"
      }
    },
    {
      "cell_type": "code",
      "source": [
        "wv = df.pop('wv (m/s)')\n",
        "max_wv = df.pop('max. wv (m/s)')\n",
        "\n",
        "# Convert to radians.\n",
        "wd_rad = df.pop('wd (deg)')*np.pi / 180\n",
        "\n",
        "# Calculate the wind x and y components.\n",
        "df['Wx'] = wv*np.cos(wd_rad)\n",
        "df['Wy'] = wv*np.sin(wd_rad)\n",
        "\n",
        "# Calculate the max wind x and y components.\n",
        "df['max Wx'] = max_wv*np.cos(wd_rad)\n",
        "df['max Wy'] = max_wv*np.sin(wd_rad)"
      ],
      "metadata": {
        "id": "Z49ZoxwrRu81"
      },
      "execution_count": 17,
      "outputs": []
    },
    {
      "cell_type": "markdown",
      "source": [
        "바람 벡터의 분포는 모델이 올바르게 해석하기에 훨씬 더 간단합니다."
      ],
      "metadata": {
        "id": "UJgvDy3JSFaH"
      }
    },
    {
      "cell_type": "code",
      "source": [
        "plt.hist2d(df['Wx'], df['Wy'], bins=(50, 50), vmax=400)\n",
        "plt.colorbar()\n",
        "plt.xlabel('Wind X [m/s]')\n",
        "plt.ylabel('Wind Y [m/s]')\n",
        "ax = plt.gca()\n",
        "ax.axis('tight')"
      ],
      "metadata": {
        "colab": {
          "base_uri": "https://localhost:8080/",
          "height": 301
        },
        "id": "BxKZIlYiSIEX",
        "outputId": "bfeb2dce-4552-44c3-a967-11015562c389"
      },
      "execution_count": 18,
      "outputs": [
        {
          "output_type": "execute_result",
          "data": {
            "text/plain": [
              "(-11.305513973134667, 8.24469928549079, -8.27438540335515, 7.7338312955467785)"
            ]
          },
          "metadata": {},
          "execution_count": 18
        },
        {
          "output_type": "display_data",
          "data": {
            "text/plain": [
              "<Figure size 432x288 with 2 Axes>"
            ],
            "image/png": "[encoded data removed]"
          },
          "metadata": {
            "needs_background": "light"
          }
        }
      ]
    },
    {
      "cell_type": "markdown",
      "source": [
        "#### 시간\n",
        "\n",
        "마찬가지로 `Date Time` 열은 매우 유용하지만 이 문자열 형식으로는 유용하지 않습니다. 우선 초로 변환합니다."
      ],
      "metadata": {
        "id": "SAD5yzTBSOLT"
      }
    },
    {
      "cell_type": "code",
      "source": [
        "print(datetime.datetime.timestamp) # kh check\n",
        "print(date_time) # kh check\n",
        "\n",
        "timestamp_s = date_time.map(datetime.datetime.timestamp)\n",
        "print(timestamp_s)"
      ],
      "metadata": {
        "colab": {
          "base_uri": "https://localhost:8080/"
        },
        "id": "U9zNkSi7SbtF",
        "outputId": "85328a9b-9c4f-4458-97fb-94d5bd3b372b"
      },
      "execution_count": 21,
      "outputs": [
        {
          "output_type": "stream",
          "name": "stdout",
          "text": [
            "<method 'timestamp' of 'datetime.datetime' objects>\n",
            "5        2009-01-01 01:00:00\n",
            "11       2009-01-01 02:00:00\n",
            "17       2009-01-01 03:00:00\n",
            "23       2009-01-01 04:00:00\n",
            "29       2009-01-01 05:00:00\n",
            "                 ...        \n",
            "420521   2016-12-31 19:10:00\n",
            "420527   2016-12-31 20:10:00\n",
            "420533   2016-12-31 21:10:00\n",
            "420539   2016-12-31 22:10:00\n",
            "420545   2016-12-31 23:10:00\n",
            "Name: Date Time, Length: 70091, dtype: datetime64[ns]\n",
            "5         1.230772e+09\n",
            "11        1.230775e+09\n",
            "17        1.230779e+09\n",
            "23        1.230782e+09\n",
            "29        1.230786e+09\n",
            "              ...     \n",
            "420521    1.483211e+09\n",
            "420527    1.483215e+09\n",
            "420533    1.483219e+09\n",
            "420539    1.483222e+09\n",
            "420545    1.483226e+09\n",
            "Name: Date Time, Length: 70091, dtype: float64\n"
          ]
        }
      ]
    },
    {
      "cell_type": "markdown",
      "source": [
        "##### 시간 -> 하루 및 연 단위의 주기성 변수로 변환  \n",
        "\n",
        "풍향과 유사하게 초 단위의 시간은 유용한 모델 입력이 아닙니다. 날씨 데이터이므로 하루 및 연 단위의 주기성이 명확합니다. 주기성을 처리할 수 있는 방법에는 여러 가지가 있습니다.\n",
        "\n",
        "사용 가능한 신호로 변환하는 간단한 방법은 `sin` 및 `cos`를 사용하여 시간을 명확한 \"하루 중 시간\" 및 \"연중 시간\" 신호로 변환하는 것입니다."
      ],
      "metadata": {
        "id": "lW04T_EPS2SR"
      }
    },
    {
      "cell_type": "code",
      "source": [
        "day = 24*60*60 # kh) sec -> day: 24hr * 60min * 60sec\n",
        "year = (365.2425)*day # kh) 통상적으로 사용되는 윤년을 고려한 avg days in year  = 365.2425 \n",
        "\n",
        "df['Day sin'] = np.sin(timestamp_s * (2 * np.pi / day))\n",
        "df['Day cos'] = np.cos(timestamp_s * (2 * np.pi / day))\n",
        "df['Year sin'] = np.sin(timestamp_s * (2 * np.pi / year))\n",
        "df['Year cos'] = np.cos(timestamp_s * (2 * np.pi / year))"
      ],
      "metadata": {
        "id": "m4jo0YuHS7xy"
      },
      "execution_count": 23,
      "outputs": []
    },
    {
      "cell_type": "code",
      "source": [
        "plt.plot(np.array(df['Day sin'])[:25])\n",
        "plt.plot(np.array(df['Day cos'])[:25])\n",
        "plt.xlabel('Time [h]')\n",
        "plt.title('Time of day signal')"
      ],
      "metadata": {
        "colab": {
          "base_uri": "https://localhost:8080/",
          "height": 314
        },
        "id": "D5gHezETT5Cl",
        "outputId": "a63cce06-85a7-4e7e-bd1a-43e6d9f191f2"
      },
      "execution_count": 24,
      "outputs": [
        {
          "output_type": "execute_result",
          "data": {
            "text/plain": [
              "Text(0.5, 1.0, 'Time of day signal')"
            ]
          },
          "metadata": {},
          "execution_count": 24
        },
        {
          "output_type": "display_data",
          "data": {
            "text/plain": [
              "<Figure size 432x288 with 1 Axes>"
            ],
            "image/png": "[encoded data removed]"
          },
          "metadata": {
            "needs_background": "light"
          }
        }
      ]
    },
    {
      "cell_type": "markdown",
      "source": [
        "그러면 모델이 가장 중요한 빈도 특성에 액세스할 수 있습니다. 이 경우 어떤 빈도가 중요한지 미리 알고 있었습니다.\n",
        "\n",
        "모르는 경우 `fft`를 사용하여 중요한 빈도를 결정할 수 있습니다. 시간에 따른 온도의 `tf.signal.rfft`를 보면 여기서 가정한 내용이 확인됩니다. `1/year` 및 `1/day` 근처에서 빈도 피크가 확실하다는 것을 알 수 있습니다. "
      ],
      "metadata": {
        "id": "jsNFL78hUZSy"
      }
    },
    {
      "cell_type": "code",
      "source": [
        "fft = tf.signal.rfft(df['T (degC)'])\n",
        "f_per_dataset = np.arange(0, len(fft))\n",
        "\n",
        "print(\"kh_check--------\")\n",
        "print(f\"original df['T (degC)'] \\n {df['T (degC)'].head()}\")\n",
        "print(f\"fft \\n { fft[0:5] }\")\n",
        "print(f\"f_per_dataset {f_per_dataset}\")\n",
        "print(\"------------\")\n",
        "\n",
        "n_samples_h = len(df['T (degC)'])\n",
        "hours_per_year = 24*365.2524\n",
        "years_per_dataset = n_samples_h/(hours_per_year)\n",
        "\n",
        "f_per_year = f_per_dataset/years_per_dataset\n",
        "plt.step(f_per_year, np.abs(fft))\n",
        "plt.xscale('log')\n",
        "plt.ylim(0, 400000)\n",
        "plt.xlim([0.1, max(plt.xlim())])\n",
        "plt.xticks([1, 365.2524], labels=['1/Year', '1/day']) # kh) matplotlib.pyplot.xticks(ticks=None, labels=None, **kwargs); Get or set the current tick locations and labels of the x-axis.\n",
        "_ = plt.xlabel('Frequency (log scale')\n"
      ],
      "metadata": {
        "colab": {
          "base_uri": "https://localhost:8080/",
          "height": 521
        },
        "id": "AaEguR-6UapM",
        "outputId": "6001a700-c14f-484c-c7e0-f18dfed08636"
      },
      "execution_count": 35,
      "outputs": [
        {
          "output_type": "stream",
          "name": "stdout",
          "text": [
            "kh_check--------\n",
            "original df['T (degC)'] \n",
            " 5    -8.05\n",
            "11   -8.88\n",
            "17   -8.81\n",
            "23   -9.05\n",
            "29   -9.63\n",
            "Name: T (degC), dtype: float64\n",
            "fft \n",
            " [662393.7       +0.j      -4666.83  +37410.137j   -2705.8481+12410.741j\n",
            "  12935.66   -1294.4241j -16647.074  +6837.21j  ]\n",
            "f_per_dataset [    0     1     2 ... 35043 35044 35045]\n",
            "------------\n"
          ]
        },
        {
          "output_type": "display_data",
          "data": {
            "text/plain": [
              "<Figure size 432x288 with 1 Axes>"
            ],
            "image/png": "[encoded data removed]"
          },
          "metadata": {
            "needs_background": "light"
          }
        }
      ]
    },
    {
      "cell_type": "markdown",
      "source": [
        "### 데이터 분할 (train/val/test)\n",
        "\n",
        "*훈련*, 검증 및 테스트 세트에 `(70%, 20%, 10%)` 분할을 사용합니다. 분할하기 전에 데이터가 임의로 셔플되지 **않습니다**. 이것은 두 가지 이유 때문입니다.\n",
        "\n",
        "1. 데이터를 연속된 샘플의 창으로 자르는 것이 여전히 가능합니다.\n",
        "2. 모델을 훈련한 후 수집된 데이터를 바탕으로 평가하므로 검증/테스트 결과가 보다 현실적입니다."
      ],
      "metadata": {
        "id": "U5Nt1nMnW3aR"
      }
    },
    {
      "cell_type": "code",
      "source": [
        "column_indices = {name: i for i, name in enumerate(df.columns)}\n",
        "print(\"column_indices\", column_indices) # kh check\n",
        "\n",
        "n = len(df)\n",
        "train_df = df[0:int(n*0.7)]\n",
        "val_df = df[int(n*0.7):int(n*0.9)]\n",
        "test_df = df[int(n*0.9):]\n",
        "\n",
        "num_features = df.shape[1]\n",
        "\n",
        "print(\"kh_check -------\")\n",
        "print(\"length of total dataset\", n)\n",
        "print(\"length of train_df, val_df, test_df\", len(train_df), len(val_df), len(test_df))"
      ],
      "metadata": {
        "colab": {
          "base_uri": "https://localhost:8080/"
        },
        "id": "Kxo1a9luW9vn",
        "outputId": "0a7f155b-37f0-4e30-f285-23990372394f"
      },
      "execution_count": 38,
      "outputs": [
        {
          "output_type": "stream",
          "name": "stdout",
          "text": [
            "column_indices {'p (mbar)': 0, 'T (degC)': 1, 'Tpot (K)': 2, 'Tdew (degC)': 3, 'rh (%)': 4, 'VPmax (mbar)': 5, 'VPact (mbar)': 6, 'VPdef (mbar)': 7, 'sh (g/kg)': 8, 'H2OC (mmol/mol)': 9, 'rho (g/m**3)': 10, 'Wx': 11, 'Wy': 12, 'max Wx': 13, 'max Wy': 14, 'Day sin': 15, 'Day cos': 16, 'Year sin': 17, 'Year cos': 18}\n",
            "kh_check -------\n",
            "length of total dataset 70091\n",
            "length of train_df, val_df, test_df 49063 14018 7010\n"
          ]
        }
      ]
    },
    {
      "cell_type": "markdown",
      "source": [
        "### 데이터 정규화\n",
        "\n",
        "신경망을 훈련하기 전에 특성의 크기를 정하는 것이 중요합니다. 정규화는 이 크기 조정을 수행하는 일반적인 방법입니다. 평균을 빼고 각 특성의 표준 편차로 나눕니다.\n",
        "\n",
        "모델이 검증 및 테스트 세트의 값에 액세스할 수 없도록 훈련 데이터를 사용해서만 평균 및 표준 편차를 계산해야 합니다.\n",
        "\n",
        "----\n",
        "\n",
        "또한 모델이 훈련할 때 훈련 세트의 미래 값에 액세스할 수 없어야 하고 이 정규화가 이동 평균을 사용하여 수행되어야 한다고 말할 수도 있습니다. 이 내용은 본 튜토리얼의 중점 사항이 아니며, 검증 및 테스트 세트가 있기 때문에 (다소) 정직한 메트릭을 얻을 수 있습니다. 따라서 단순화를 위해 이 튜토리얼에서는 단순 평균을 사용합니다."
      ],
      "metadata": {
        "id": "MeQTjM-pXx3c"
      }
    },
    {
      "cell_type": "code",
      "source": [
        "train_mean = train_df.mean()\n",
        "train_std = train_df.std()\n",
        "\n",
        "train_df = (train_df - train_mean) / train_std\n",
        "val_df = (val_df - train_mean) / train_std\n",
        "test_df = (test_df - train_mean) / train_std"
      ],
      "metadata": {
        "id": "A8JMS31WYBr-"
      },
      "execution_count": 39,
      "outputs": []
    },
    {
      "cell_type": "markdown",
      "source": [
        "이제 특성의 분포를 살펴봅니다. 일부 특성은 꼬리가 길지만 `-9999` 풍속 값과 같은 명백한 오류는 없습니다."
      ],
      "metadata": {
        "id": "a875qJN_aVan"
      }
    },
    {
      "cell_type": "code",
      "source": [
        "df_std =  (df - train_mean) / train_std\n",
        "df_std = df_std.melt(var_name = 'Column', value_name = 'Normalized') #kh ) pandas.melt: Unpivot a DataFrame from wide to long format, optionally leaving identifiers set.\n",
        "display(df_std.head()) # kh check\n",
        "\n",
        "plt.figure(figsize=(12, 6))\n",
        "ax = sns.violinplot(x='Column', y='Normalized', data = df_std)\n",
        "_ = ax.set_xticklabels(df.keys(), rotation= 90)\n",
        "\n",
        "print(\"kh Check - df.keys()\", df.keys())"
      ],
      "metadata": {
        "colab": {
          "base_uri": "https://localhost:8080/",
          "height": 747
        },
        "id": "27FcihfHafOz",
        "outputId": "228c1011-33a6-477b-c652-7afd0e6f6a42"
      },
      "execution_count": 42,
      "outputs": [
        {
          "output_type": "display_data",
          "data": {
            "text/plain": [
              "     Column  Normalized\n",
              "0  p (mbar)    0.945308\n",
              "1  p (mbar)    0.959770\n",
              "2  p (mbar)    0.986284\n",
              "3  p (mbar)    1.004362\n",
              "4  p (mbar)    1.061006"
            ],
            "text/html": [
              "\n",
              "  <div id=\"df-6471d730-5445-4b61-be71-de30cfb24d07\">\n",
              "    <div class=\"colab-df-container\">\n",
              "      <div>\n",
              "<style scoped>\n",
              "    .dataframe tbody tr th:only-of-type {\n",
              "        vertical-align: middle;\n",
              "    }\n",
              "\n",
              "    .dataframe tbody tr th {\n",
              "        vertical-align: top;\n",
              "    }\n",
              "\n",
              "    .dataframe thead th {\n",
              "        text-align: right;\n",
              "    }\n",
              "</style>\n",
              "<table border=\"1\" class=\"dataframe\">\n",
              "  <thead>\n",
              "    <tr style=\"text-align: right;\">\n",
              "      <th></th>\n",
              "      <th>Column</th>\n",
              "      <th>Normalized</th>\n",
              "    </tr>\n",
              "  </thead>\n",
              "  <tbody>\n",
              "    <tr>\n",
              "      <th>0</th>\n",
              "      <td>p (mbar)</td>\n",
              "      <td>0.945308</td>\n",
              "    </tr>\n",
              "    <tr>\n",
              "      <th>1</th>\n",
              "      <td>p (mbar)</td>\n",
              "      <td>0.959770</td>\n",
              "    </tr>\n",
              "    <tr>\n",
              "      <th>2</th>\n",
              "      <td>p (mbar)</td>\n",
              "      <td>0.986284</td>\n",
              "    </tr>\n",
              "    <tr>\n",
              "      <th>3</th>\n",
              "      <td>p (mbar)</td>\n",
              "      <td>1.004362</td>\n",
              "    </tr>\n",
              "    <tr>\n",
              "      <th>4</th>\n",
              "      <td>p (mbar)</td>\n",
              "      <td>1.061006</td>\n",
              "    </tr>\n",
              "  </tbody>\n",
              "</table>\n",
              "</div>\n",
              "      <button class=\"colab-df-convert\" onclick=\"convertToInteractive('df-6471d730-5445-4b61-be71-de30cfb24d07')\"\n",
              "              title=\"Convert this dataframe to an interactive table.\"\n",
              "              style=\"display:none;\">\n",
              "        \n",
              "  <svg xmlns=\"http://www.w3.org/2000/svg\" height=\"24px\"viewBox=\"0 0 24 24\"\n",
              "       width=\"24px\">\n",
              "    <path d=\"M0 0h24v24H0V0z\" fill=\"none\"/>\n",
              "    <path d=\"M18.56 5.44l.94 2.06.94-2.06 2.06-.94-2.06-.94-.94-2.06-.94 2.06-2.06.94zm-11 1L8.5 8.5l.94-2.06 2.06-.94-2.06-.94L8.5 2.5l-.94 2.06-2.06.94zm10 10l.94 2.06.94-2.06 2.06-.94-2.06-.94-.94-2.06-.94 2.06-2.06.94z\"/><path d=\"M17.41 7.96l-1.37-1.37c-.4-.4-.92-.59-1.43-.59-.52 0-1.04.2-1.43.59L10.3 9.45l-7.72 7.72c-.78.78-.78 2.05 0 2.83L4 21.41c.39.39.9.59 1.41.59.51 0 1.02-.2 1.41-.59l7.78-7.78 2.81-2.81c.8-.78.8-2.07 0-2.86zM5.41 20L4 18.59l7.72-7.72 1.47 1.35L5.41 20z\"/>\n",
              "  </svg>\n",
              "      </button>\n",
              "      \n",
              "  <style>\n",
              "    .colab-df-container {\n",
              "      display:flex;\n",
              "      flex-wrap:wrap;\n",
              "      gap: 12px;\n",
              "    }\n",
              "\n",
              "    .colab-df-convert {\n",
              "      background-color: #E8F0FE;\n",
              "      border: none;\n",
              "      border-radius: 50%;\n",
              "      cursor: pointer;\n",
              "      display: none;\n",
              "      fill: #1967D2;\n",
              "      height: 32px;\n",
              "      padding: 0 0 0 0;\n",
              "      width: 32px;\n",
              "    }\n",
              "\n",
              "    .colab-df-convert:hover {\n",
              "      background-color: #E2EBFA;\n",
              "      box-shadow: 0px 1px 2px rgba(60, 64, 67, 0.3), 0px 1px 3px 1px rgba(60, 64, 67, 0.15);\n",
              "      fill: #174EA6;\n",
              "    }\n",
              "\n",
              "    [theme=dark] .colab-df-convert {\n",
              "      background-color: #3B4455;\n",
              "      fill: #D2E3FC;\n",
              "    }\n",
              "\n",
              "    [theme=dark] .colab-df-convert:hover {\n",
              "      background-color: #434B5C;\n",
              "      box-shadow: 0px 1px 3px 1px rgba(0, 0, 0, 0.15);\n",
              "      filter: drop-shadow(0px 1px 2px rgba(0, 0, 0, 0.3));\n",
              "      fill: #FFFFFF;\n",
              "    }\n",
              "  </style>\n",
              "\n",
              "      <script>\n",
              "        const buttonEl =\n",
              "          document.querySelector('#df-6471d730-5445-4b61-be71-de30cfb24d07 button.colab-df-convert');\n",
              "        buttonEl.style.display =\n",
              "          google.colab.kernel.accessAllowed ? 'block' : 'none';\n",
              "\n",
              "        async function convertToInteractive(key) {\n",
              "          const element = document.querySelector('#df-6471d730-5445-4b61-be71-de30cfb24d07');\n",
              "          const dataTable =\n",
              "            await google.colab.kernel.invokeFunction('convertToInteractive',\n",
              "                                                     [key], {});\n",
              "          if (!dataTable) return;\n",
              "\n",
              "          const docLinkHtml = 'Like what you see? Visit the ' +\n",
              "            '<a target=\"_blank\" href=https://colab.research.google.com/notebooks/data_table.ipynb>data table notebook</a>'\n",
              "            + ' to learn more about interactive tables.';\n",
              "          element.innerHTML = '';\n",
              "          dataTable['output_type'] = 'display_data';\n",
              "          await google.colab.output.renderOutput(dataTable, element);\n",
              "          const docLink = document.createElement('div');\n",
              "          docLink.innerHTML = docLinkHtml;\n",
              "          element.appendChild(docLink);\n",
              "        }\n",
              "      </script>\n",
              "    </div>\n",
              "  </div>\n",
              "  "
            ]
          },
          "metadata": {}
        },
        {
          "output_type": "stream",
          "name": "stdout",
          "text": [
            "kh Check - df.keys() Index(['p (mbar)', 'T (degC)', 'Tpot (K)', 'Tdew (degC)', 'rh (%)',\n",
            "       'VPmax (mbar)', 'VPact (mbar)', 'VPdef (mbar)', 'sh (g/kg)',\n",
            "       'H2OC (mmol/mol)', 'rho (g/m**3)', 'Wx', 'Wy', 'max Wx', 'max Wy',\n",
            "       'Day sin', 'Day cos', 'Year sin', 'Year cos'],\n",
            "      dtype='object')\n"
          ]
        },
        {
          "output_type": "display_data",
          "data": {
            "text/plain": [
              "<Figure size 864x432 with 1 Axes>"
            ],
            "image/png": "[encoded data removed]"
          },
          "metadata": {
            "needs_background": "light"
          }
        }
      ]
    },
    {
      "cell_type": "markdown",
      "source": [
        "## 데이터 창 작업\n",
        "\n",
        "이 튜토리얼의 모델은 데이터의 연속된 샘플 창을 기반으로 일련의 예측을 수행합니다.\n",
        "\n",
        "입력 창의 주요 특성은 다음과 같습니다.\n",
        "\n",
        "- 입력 및 레이블 창의 너비(타임스텝 수)\n",
        "- 각 사이의 시간 오프셋\n",
        "- 입력, 레이블 또는 둘 모두로 사용되는 특성\n",
        "\n",
        "이 튜토리얼은 다양한 모델(선형, DNN, CNN 및 RNN 모델 포함)을 빌드하고 다음 두 가지 목적으로 이 모델을 사용합니다.\n",
        "\n",
        "- *단일 출력* 및 *다중 출력* 예측\n",
        "- *단일 타임스텝* 및 *다중 타임스텝* 예측\n",
        "\n",
        "이 섹션에서는 모든 모델에 재사용할 수 있도록 데이터 창 작업을 구현하는 부분에 중점을 둡니다.\n",
        "\n",
        "----\n",
        "\n",
        "작업 및 모델 유형에 따라 다양한 데이터 창을 생성할 수 있습니다. 다음은 몇 가지 예입니다.\n",
        "\n",
        "(kh - 예시그림은 원본 링크 참고; https://www.tensorflow.org/tutorials/structured_data/time_series?hl=ko)\n",
        "\n",
        "\n",
        "1. 예를 들어, 24시간의 기록이 주어졌을 때 앞으로 24시간의 미래를 단일 예측하려면 다음과 같은 창을 정의할 수 있습니다.\n",
        "\n",
        "![One prediction 24h into the future.](images/raw_window_24h.png)\n",
        "\n",
        "(kh. \n",
        "\n",
        "* Input width = 24 (24시간의 기록이 주어졌을 때\n",
        "* offset = 24 (앞으로 24시간의 미래를 ) , label width = 1 ( '단'일 예측하려면) (offset의 마지막 index 사용)\n",
        "* total width = 48\n",
        "\n",
        ")\n",
        "\n",
        "1. 6시간의 기록이 주어졌을 때 앞으로 1시간의 미래를 예측하는 모델에는 다음과 같은 창이 필요합니다.\n",
        "\n",
        "![One prediction 1h into the future.](images/raw_window_1h.png)\n",
        "\n",
        "(kh. \n",
        "\n",
        "* Input width = 6 (6시간의 기록이 주어졌을 때\n",
        "* offset = 1 (앞으로 1시간의 미래를 ) , label width = 1 ( '단'일 예측하려면) (offset의 마지막 index 사용)\n",
        "* total width = 7\n",
        "\n",
        ")\n",
        "\n",
        "----\n",
        "\n",
        "이 섹션의 나머지 부분에서는 `WindowGenerator` 클래스를 정의합니다. 이 클래스는 다음을 수행할 수 있습니다.\n",
        "\n",
        "1. 위의 다이어그램과 같이 인덱스와 오프셋을 처리합니다.\n",
        "2. 특성 창을 `(features, labels)` 쌍으로 분할합니다.\n",
        "3. 결과 창의 내용을 플롯합니다.\n",
        "4. `tf.data.Dataset`를 사용하여 훈련, 평가 및 테스트 데이터로부터 이러한 창을 여러 배치로 효율적으로 생성합니다.\n"
      ],
      "metadata": {
        "id": "xrEf-B5Kbm8A"
      }
    },
    {
      "cell_type": "markdown",
      "source": [
        "### 1. 인덱스 및 오프셋\n",
        "\n",
        "우선 `WindowGenerator` 클래스를 만듭니다. `__init__` 메서드에는 입력 및 레이블 인덱스에 필요한 모든 논리가 포함됩니다.\n",
        "\n",
        "또한 train, eval 및 test 데이터 프레임을 입력으로 사용합니다. 이러한 데이터 프레임은 나중에 창의 `tf.data.Dataset`로 변환됩니다."
      ],
      "metadata": {
        "id": "ueq1CbsmcHBj"
      }
    },
    {
      "cell_type": "code",
      "source": [
        "\"\"\"\n",
        "kh) [Python] 클래스 내장모듈 __repr__ (self)\n",
        "\n",
        "__repr__: representation (표현하다)\n",
        "\n",
        "__repr__ : 사용자가 객체 자체를 이해할 수 있게 표현해주는 메서드이다\n",
        "\n",
        "추가사항 : __str__이 서로 다른 자료형 간 인터페이스를 제공하기 위한 목적으로 존재한다면, __repr__는 해당 객체를 인간이 이해할 수 있는 표현으로 나타내기 위한 용도이다.\n",
        "\n",
        "출처: https://it-neicebee.tistory.com/104 [IT's Portfolio]\n",
        "\"\"\"\n",
        "\n",
        "class WindowGenerator():\n",
        "  def __init__(self, input_width, label_width, shift,\n",
        "               train_df = train_df, val_df = val_df, test_df=test_df,\n",
        "               label_columns=None):\n",
        "    # Store the raw data.\n",
        "    self.train_df = train_df\n",
        "    self.val_df = val_df\n",
        "    self.test_df = test_df\n",
        "\n",
        "    # Work out the label column indices.\n",
        "    self.label_columns = label_columns\n",
        "    if label_columns is not None:\n",
        "      self.label_columns_indices = {name: i for i, name in enumerate(label_columns)}\n",
        "\n",
        "    self.column_indices = {name: i for i, name in enumerate(train_df.columns)}\n",
        "\n",
        "    # Work out the window parameters\n",
        "    self.input_width = input_width\n",
        "    self.label_width = label_width\n",
        "    self.shift = shift\n",
        "\n",
        "    self.total_window_size = input_width + shift\n",
        "\n",
        "    self.input_slice = slice(0, input_width) # kh) slice(start, stop[, step]); 잘라내기 원하는 index 들을 정의하는 클래스이다. Ref Link. https://technote.kr/255\n",
        "    self.input_indices = np.arange(self.total_window_size)[self.input_slice]\n",
        "\n",
        "    self.label_start = self.total_window_size - self.label_width\n",
        "    self.labels_slice = slice(self.label_start, None)\n",
        "    self.label_indices = np.arange(self.total_window_size)[self.labels_slice]\n",
        "\n",
        "  def __repr__(self):\n",
        "    return '\\n'.join([\n",
        "        f'Total window size: {self.total_window_size}',\n",
        "        f'Input indices: {self.input_indices}',\n",
        "        f'Label indices: {self.label_indices}',\n",
        "        f'Label column name(s): {self.label_columns}'])\n",
        "    "
      ],
      "metadata": {
        "id": "ToCSiiF6cPQ-"
      },
      "execution_count": 43,
      "outputs": []
    },
    {
      "cell_type": "markdown",
      "source": [
        "이 섹션의 시작 부분에서 다이어그램에 나타낸 두 개의 창을 만드는 코드는 다음과 같습니다."
      ],
      "metadata": {
        "id": "CwmK-7IDh2oQ"
      }
    },
    {
      "cell_type": "code",
      "source": [
        "\"\"\"\n",
        "(kh - 예시그림은 원본 링크 참고; https://www.tensorflow.org/tutorials/structured_data/time_series?hl=ko)\n",
        "\n",
        "1. 예를 들어, 24시간의 기록이 주어졌을 때 앞으로 24시간의 미래를 단일 예측하려면 다음과 같은 창을 정의할 수 있습니다.\n",
        "\n",
        "![One prediction 24h into the future.](images/raw_window_24h.png)\n",
        "\n",
        "(kh. \n",
        "\n",
        "* Input width = 24 (24시간의 기록이 주어졌을 때\n",
        "* offset = 24 (앞으로 24시간의 미래를 ) , label width = 1 ( '단'일 예측하려면) (offset의 마지막 index 사용)\n",
        "* total width = 48\n",
        "\n",
        ")\n",
        "\"\"\"\n",
        "w1 = WindowGenerator(input_width=24, label_width=1, shift=24,\n",
        "                     label_columns=['T (degC)'])\n",
        "w1"
      ],
      "metadata": {
        "colab": {
          "base_uri": "https://localhost:8080/"
        },
        "id": "KvLVxvQpiF8B",
        "outputId": "9d6fd311-5750-4b31-b094-bce3eb51eb1c"
      },
      "execution_count": 44,
      "outputs": [
        {
          "output_type": "execute_result",
          "data": {
            "text/plain": [
              "Total window size: 48\n",
              "Input indices: [ 0  1  2  3  4  5  6  7  8  9 10 11 12 13 14 15 16 17 18 19 20 21 22 23]\n",
              "Label indices: [47]\n",
              "Label column name(s): ['T (degC)']"
            ]
          },
          "metadata": {},
          "execution_count": 44
        }
      ]
    },
    {
      "cell_type": "code",
      "source": [
        "\"\"\"\n",
        "\n",
        "2. 6시간의 기록이 주어졌을 때 앞으로 1시간의 미래를 예측하는 모델에는 다음과 같은 창이 필요합니다.\n",
        "\n",
        "![One prediction 1h into the future.](images/raw_window_1h.png)\n",
        "\n",
        "(kh. \n",
        "\n",
        "* Input width = 6 (6시간의 기록이 주어졌을 때\n",
        "* offset = 1 (앞으로 1시간의 미래를 ) , label width = 1 ( '단'일 예측하려면) (offset의 마지막 index 사용)\n",
        "* total width = 7\n",
        "\n",
        ")\n",
        "\"\"\"\n",
        "\n",
        "w2 = WindowGenerator(input_width=6, label_width=1, shift=1,\n",
        "                     label_columns=['T (degC)'])\n",
        "w2"
      ],
      "metadata": {
        "colab": {
          "base_uri": "https://localhost:8080/"
        },
        "id": "96SuqxJTiIMx",
        "outputId": "df80adab-d6de-4f6d-cab7-b8d714adb9ec"
      },
      "execution_count": 45,
      "outputs": [
        {
          "output_type": "execute_result",
          "data": {
            "text/plain": [
              "Total window size: 7\n",
              "Input indices: [0 1 2 3 4 5]\n",
              "Label indices: [6]\n",
              "Label column name(s): ['T (degC)']"
            ]
          },
          "metadata": {},
          "execution_count": 45
        }
      ]
    },
    {
      "cell_type": "markdown",
      "source": [
        "### 2. 분할\n",
        "\n",
        "연속적인 입력 목록이 주어지면 `split_window` 메서드는 이 목록을 입력 창과 레이블 창으로 변환합니다.\n",
        "\n",
        "위의 예제 `w2`는 다음과 같이 분할됩니다.\n",
        "\n",
        "![The initial window is all consecuitive samples, this splits it into an (inputs, labels) pairs](https://github.com/tensorflow/docs-l10n/blob/master/site/ko/tutorials/structured_data/images/split_window.png?raw=true)\n",
        "\n",
        "이 다이어그램에는 데이터의 `features` 축이 나와 있지 않지만 이 `split_window` 함수는 단일 출력과 다중 출력 예에서 모두 사용될 수 있도록 `label_columns`를 처리합니다."
      ],
      "metadata": {
        "id": "HKx-8taHjWv_"
      }
    },
    {
      "cell_type": "code",
      "source": [
        "def split_window(self, features):\n",
        "  \"\"\"\n",
        "  kh) \n",
        "  Parameters\n",
        "  ___\n",
        "    -. features # 입력 목록이 주어지면\n",
        "\n",
        "  Return\n",
        "  ---\n",
        "    -. inputs, labels # 입력 창과 레이블 창으로 변환\n",
        "  \"\"\"\n",
        "  inputs = features[:, self.input_slice, :]\n",
        "  labels = features[:, self.labels_slice, :]\n",
        "  if self.label_columns is not None:\n",
        "    labels = tf.stack(\n",
        "        [labels[:, :, self.column_indices[name]] for name in self.label_columns],\n",
        "        axis=-1)\n",
        "    \n",
        "  # Slicing doesn't preserve static shape information, so set the shapes\n",
        "  # manually, This way the 'tf.data.Datasets' are easier to inspect.\n",
        "  inputs.set_shape([None, self.input_width, None])\n",
        "  labels.set_shape([None, self.label_width, None])\n",
        "\n",
        "  return inputs, labels\n",
        "\n",
        "#kh) WindowGenerator 클래스에 split_window 내장함수 추가\n",
        "WindowGenerator.split_window = split_window "
      ],
      "metadata": {
        "id": "CM30ZyMojacD"
      },
      "execution_count": 46,
      "outputs": []
    },
    {
      "cell_type": "code",
      "source": [
        "## 다음을 사용해 보세요 (WindowGenerator.split_window 사용 예시)\n",
        "\n",
        "# Stack three slices, the lenth of the total window:\n",
        "example_window = tf.stack([np.array(train_df[:w2.total_window_size]),\n",
        "                           np.array(train_df[100:100+w2.total_window_size]),\n",
        "                           np.array(train_df[200:200+w2.total_window_size])])\n",
        "\n",
        "example_inputs, example_labels = w2.split_window(example_window)\n",
        "\n",
        "print('All shapes are: (batch, time, features)')\n",
        "print(f'Window shape: {example_window.shape}')\n",
        "print(f'Inputs shape: {example_inputs.shape}')\n",
        "print(f'labels shape: {example_labels.shape}')"
      ],
      "metadata": {
        "colab": {
          "base_uri": "https://localhost:8080/"
        },
        "id": "8iqE2PxSlfIa",
        "outputId": "4489f63d-84c8-4292-ecb2-83b0beda8f0c"
      },
      "execution_count": 47,
      "outputs": [
        {
          "output_type": "stream",
          "name": "stdout",
          "text": [
            "All shapes are: (batch, time, features)\n",
            "Window shape: (3, 7, 19)\n",
            "Inputs shape: (3, 6, 19)\n",
            "labels shape: (3, 1, 1)\n"
          ]
        }
      ]
    },
    {
      "cell_type": "markdown",
      "source": [
        "일반적으로 TensorFlow의 데이터는 가장 바깥 쪽 인덱스가 여러 예제(\"배치\" 차원)에 걸쳐 있는 배열로 구성됩니다. 중간 인덱스는 \"시간\" 또는 \"공간\"(너비, 높이) 차원입니다. 가장 안쪽 인덱스는 특성입니다.\n",
        "\n",
        "(kh\n",
        "\n",
        "* 가장 바깥 쪽 인덱스 shape[0]: 여러 예제(\"배치\" 차원)에 걸쳐 있는 배열로 구성; batch size\n",
        "* 중간 인덱스 shape[1]:  \"시간\" 또는 \"공간\"(너비, 높이) 차원; time length\n",
        "* 가장 안쪽 인덱스 shape[2]: 특성; # of column variables\n",
        "\n",
        ")\n",
        "\n",
        "위의 코드는 두 배치의 7-타임스텝 창을 사용하며 각 타임스텝에는 19개의 특성이 있습니다. 그러면 이것을 한 배치의 6-타임스텝과 19개의 특성 입력 및 1-타임스텝 1-특성 레이블로 분할합니다. 레이블에는 하나의 특성만 있는데, `WindowGenerator`가 `label_columns=['T (degC)']`로 초기화되었기 때문입니다. 우선 이 튜토리얼에서는 단일 출력 레이블을 예측하는 모델을 빌드합니다."
      ],
      "metadata": {
        "id": "bBALgRWMnuVi"
      }
    },
    {
      "cell_type": "markdown",
      "source": [
        "### 3. 플롯하기\n",
        "\n",
        "다음은 분할 창을 간단하게 시각화할 수 있는 플롯 메서드입니다."
      ],
      "metadata": {
        "id": "iSQ_6tCvnxZe"
      }
    },
    {
      "cell_type": "code",
      "source": [
        "w2.example = example_inputs, example_labels\n",
        "print(w2.example) #kh check"
      ],
      "metadata": {
        "colab": {
          "base_uri": "https://localhost:8080/"
        },
        "id": "A_e4-nq2n0RZ",
        "outputId": "be0c5a74-b97d-4fe4-e731-996c7cff6e4e"
      },
      "execution_count": 49,
      "outputs": [
        {
          "output_type": "stream",
          "name": "stdout",
          "text": [
            "(<tf.Tensor: shape=(3, 6, 19), dtype=float64, numpy=\n",
            "array([[[ 9.45307599e-01, -1.98247323e+00, -2.04188844e+00,\n",
            "         -1.91897277e+00,  1.11710152e+00, -1.30285119e+00,\n",
            "         -1.47732321e+00, -7.90423621e-01, -1.48003637e+00,\n",
            "         -1.48269721e+00,  2.21852381e+00,  1.93409239e-01,\n",
            "          2.21161294e-01,  1.11140455e-01,  2.17927873e-01,\n",
            "          3.66110559e-01,  1.36606880e+00, -6.10523600e-02,\n",
            "          1.42843408e+00],\n",
            "        [ 9.59769847e-01, -2.07837211e+00, -2.13816632e+00,\n",
            "         -2.06096373e+00,  1.04461734e+00, -1.33014257e+00,\n",
            "         -1.53435391e+00, -7.86272298e-01, -1.53618981e+00,\n",
            "         -1.53903452e+00,  2.32570755e+00,  1.72986774e-01,\n",
            "          2.22100866e-01,  1.09458245e-01,  2.27798499e-01,\n",
            "          7.07199726e-01,  1.22479437e+00, -6.00293506e-02,\n",
            "          1.42842359e+00],\n",
            "        [ 9.86283967e-01, -2.07028426e+00, -2.13243549e+00,\n",
            "         -2.04518696e+00,  1.06273839e+00, -1.32884298e+00,\n",
            "         -1.52722507e+00, -7.88347960e-01, -1.52870268e+00,\n",
            "         -1.53199235e+00,  2.32399847e+00,  2.07982702e-01,\n",
            "          2.76266015e-01,  1.11218051e-01,  3.24078416e-01,\n",
            "          1.00009963e+00,  1.00005921e+00, -5.90063492e-02,\n",
            "          1.42841238e+00],\n",
            "        [ 1.00436178e+00, -2.09801405e+00, -2.16108962e+00,\n",
            "         -2.09682003e+00,  1.00837525e+00, -1.33664052e+00,\n",
            "         -1.54623531e+00, -7.82120974e-01, -1.54742050e+00,\n",
            "         -1.55311884e+00,  2.35891254e+00,  2.70342966e-01,\n",
            "          1.95266549e-01,  2.46907336e-01,  1.45175563e-01,\n",
            "          1.22484964e+00,  7.07178644e-01, -5.79833561e-02,\n",
            "          1.42840045e+00],\n",
            "        [ 1.06100558e+00, -2.16502773e+00, -2.23215187e+00,\n",
            "         -2.18717792e+00,  9.84213858e-01, -1.35353518e+00,\n",
            "         -1.57950322e+00, -7.82120974e-01, -1.58111256e+00,\n",
            "         -1.58598227e+00,  2.44631978e+00,  1.12264024e-01,\n",
            "          3.50818154e-01,  4.86404934e-02,  4.02053266e-01,\n",
            "          1.36613340e+00,  3.66112004e-01, -5.69603721e-02,\n",
            "          1.42838780e+00],\n",
            "        [ 1.09113526e+00, -2.16964936e+00, -2.23902886e+00,\n",
            "         -2.18287516e+00,  1.01441560e+00, -1.35483477e+00,\n",
            "         -1.57950322e+00, -7.86272298e-01, -1.58111256e+00,\n",
            "         -1.58363488e+00,  2.45901580e+00,  2.74589572e-01,\n",
            "          2.68632952e-01,  1.75114670e-01,  3.77528379e-01,\n",
            "          1.41432266e+00,  1.02415092e-04, -5.59373974e-02,\n",
            "          1.42837442e+00]],\n",
            "\n",
            "       [[-3.71962089e-01, -1.25687689e+00, -1.22238033e+00,\n",
            "         -1.15451638e+00,  7.42599923e-01, -1.03903453e+00,\n",
            "         -1.09949481e+00, -6.99094503e-01, -1.09444941e+00,\n",
            "         -1.09537822e+00,  1.11787619e+00, -8.10131267e-03,\n",
            "         -1.85871108e+00, -1.28341853e-02, -1.79355171e+00,\n",
            "          1.36613340e+00,  3.66112004e-01,  4.11245445e-02,\n",
            "          1.42381315e+00],\n",
            "        [-3.23754599e-01, -1.25572149e+00, -1.22581883e+00,\n",
            "         -1.15881913e+00,  7.24478878e-01, -1.03773494e+00,\n",
            "         -1.10187109e+00, -6.94943180e-01, -1.09819297e+00,\n",
            "         -1.09772561e+00,  1.12935144e+00,  2.36194026e-01,\n",
            "         -9.25164983e-01,  2.32757121e-01, -1.11198763e+00,\n",
            "          1.41432266e+00,  1.02415088e-04,  4.21441644e-02,\n",
            "          1.42373053e+00],\n",
            "        [-2.24929242e-01, -1.29269455e+00, -1.26937310e+00,\n",
            "         -1.20758371e+00,  7.18438529e-01, -1.05462960e+00,\n",
            "         -1.13038644e+00, -6.97018842e-01, -1.12439791e+00,\n",
            "         -1.12824165e+00,  1.19307572e+00,  9.29816378e-01,\n",
            "          1.99256716e-01,  1.22676068e+00,  2.01767938e-01,\n",
            "          1.36613340e+00, -3.65907174e-01,  4.31637240e-02,\n",
            "          1.42364720e+00],\n",
            "        [-1.18872762e-01, -1.36664067e+00, -1.35189700e+00,\n",
            "         -1.28646757e+00,  7.48640271e-01, -1.08581975e+00,\n",
            "         -1.17553575e+00, -7.09472812e-01, -1.17306422e+00,\n",
            "         -1.17284202e+00,  1.29635299e+00,  1.08507374e+00,\n",
            "          2.52860015e-01,  1.42682813e+00,  2.73596667e-01,\n",
            "          1.22484964e+00, -7.06973814e-01,  4.41832226e-02,\n",
            "          1.42356315e+00],\n",
            "        [-2.84837168e-02, -1.41170159e+00, -1.40347443e+00,\n",
            "         -1.28359907e+00,  9.17770026e-01, -1.10531359e+00,\n",
            "         -1.17315947e+00, -7.40607739e-01, -1.16932066e+00,\n",
            "         -1.17284202e+00,  1.36471619e+00, -4.97434596e-01,\n",
            "          1.12580285e-01, -1.15948833e+00,  3.39908907e-02,\n",
            "          1.00009963e+00, -9.99854377e-01,  4.52026598e-02,\n",
            "          1.42347837e+00],\n",
            "        [ 6.91364523e-02, -1.43249894e+00, -1.43098240e+00,\n",
            "         -1.31228411e+00,  9.05689329e-01, -1.11311113e+00,\n",
            "         -1.18979342e+00, -7.38532077e-01, -1.18803847e+00,\n",
            "         -1.18927374e+00,  1.41183798e+00,  1.54324079e+00,\n",
            "          4.42288176e-01,  1.77777810e+00,  4.79759658e-01,\n",
            "          7.07199726e-01, -1.22458954e+00,  4.62220351e-02,\n",
            "          1.42339288e+00]],\n",
            "\n",
            "       [[ 1.76724532e+00, -2.92182009e+00, -3.03217517e+00,\n",
            "         -3.21983946e+00,  6.58035046e-01, -1.51208509e+00,\n",
            "         -1.86940929e+00, -7.82120974e-01, -1.86562333e+00,\n",
            "         -1.87236358e+00,  3.47518604e+00, -1.54728495e-01,\n",
            "          5.90998243e-01, -3.81836404e-01,  7.53717192e-01,\n",
            "          1.00009963e+00, -9.99854377e-01,  1.42703052e-01,\n",
            "          1.41199738e+00],\n",
            "        [ 1.83112024e+00, -2.81205631e+00, -2.92787414e+00,\n",
            "         -3.07784850e+00,  6.82196439e-01, -1.49389084e+00,\n",
            "         -1.83851766e+00, -7.80045313e-01, -1.83567483e+00,\n",
            "         -1.84184754e+00,  3.36897891e+00, -6.32989779e-02,\n",
            "          5.95178293e-01, -1.40998787e-01,  6.70026888e-01,\n",
            "          7.07199726e-01, -1.22458954e+00,  1.43714046e-01,\n",
            "          1.41184306e+00],\n",
            "        [ 1.83353062e+00, -2.54169080e+00, -2.66081765e+00,\n",
            "         -2.79099807e+00,  5.49308775e-01, -1.44190726e+00,\n",
            "         -1.76722928e+00, -7.59288695e-01, -1.76829070e+00,\n",
            "         -1.77377329e+00,  3.06818080e+00, -6.51143324e-02,\n",
            "         -2.06790496e-02, -3.74395974e-02,  3.00577547e-02,\n",
            "          3.66110559e-01, -1.36586397e+00,  1.44724928e-01,\n",
            "          1.41168803e+00],\n",
            "        [ 1.76121938e+00, -2.26208201e+00, -2.37771484e+00,\n",
            "         -2.55864922e+00,  2.41251007e-01, -1.37822738e+00,\n",
            "         -1.70306974e+00, -7.15699798e-01, -1.70465013e+00,\n",
            "         -1.70804644e+00,  2.74345557e+00, -1.16516934e-01,\n",
            "          4.91472352e-01, -2.74742589e-01,  5.86185899e-01,\n",
            "          7.67967722e-05, -1.41405004e+00,  1.45735697e-01,\n",
            "          1.41153229e+00],\n",
            "        [ 1.70337039e+00, -1.79529711e+00, -1.91122561e+00,\n",
            "         -2.31482636e+00, -5.48826561e-01, -1.24566925e+00,\n",
            "         -1.62465252e+00, -5.70403473e-01, -1.62977888e+00,\n",
            "         -1.63293003e+00,  2.23244061e+00,  1.12255931e-02,\n",
            "          1.48261416e-02, -1.30451804e-01, -6.62618259e-02,\n",
            "         -3.65956966e-01, -1.36586397e+00,  1.46746351e-01,\n",
            "          1.41137583e+00],\n",
            "        [ 1.62985397e+00, -1.61967506e+00, -1.73127768e+00,\n",
            "         -2.27610155e+00, -9.13663604e-01, -1.18458855e+00,\n",
            "         -1.61039485e+00, -4.85301340e-01, -1.61480463e+00,\n",
            "         -1.61884570e+00,  2.03125746e+00, -1.78914692e-01,\n",
            "          2.56273048e-03, -2.84875841e-01, -1.64325729e-02,\n",
            "         -7.07046133e-01, -1.22458954e+00,  1.47756892e-01,\n",
            "          1.41121866e+00]]])>, <tf.Tensor: shape=(3, 1, 1), dtype=float64, numpy=\n",
            "array([[[-2.11187895]],\n",
            "\n",
            "       [[-1.46022873]],\n",
            "\n",
            "       [[-1.47871527]]])>)\n"
          ]
        }
      ]
    },
    {
      "cell_type": "code",
      "source": [
        "def plot(self, model=None, plot_col='T (degC)', max_subplots=3):\n",
        "  inputs, labels = self.example\n",
        "  plt.figure(figsize=(12, 8))\n",
        "  plot_col_index = self.column_indices[plot_col]\n",
        "  max_n = min(max_subplots, len(inputs))\n",
        "  for n in range(max_n):\n",
        "    plt.subplot(3, 1, n+1)\n",
        "    plt.ylabel(f'{plot_col} [normed]')\n",
        "    plt.plot(self.input_indices, inputs[n, :, plot_col_index],\n",
        "             label='Inputs', marker='.', zorder=-10)\n",
        "    if self.label_columns:\n",
        "      label_col_index = self.label_columns_indices.get(plot_col, None)\n",
        "    else:\n",
        "      label_col_index = plot_col_index\n",
        "\n",
        "    if label_col_index is None:\n",
        "      continue\n",
        "\n",
        "    plt.scatter(self.label_indices, labels[n, :, label_col_index],\n",
        "                edgecolors='k', label='Labels', c='#2ca02c', s=64)\n",
        "    if model is not None:\n",
        "      predictions = model(inputs)\n",
        "      plt.scatter(self.label_indices, predictions[n, :, label_col_index],\n",
        "                  marker='X', edgecolors='k', label='Predictions',\n",
        "                  c='#ff7f0e', s=64)\n",
        "      \n",
        "    if n == 0:\n",
        "      plt.legend()\n",
        "\n",
        "  plt.xlabel('Time [h]')\n",
        "  # -- end of def plot()  # kh added\n",
        "\n",
        "WindowGenerator.plot = plot"
      ],
      "metadata": {
        "id": "JJEbJwyAo1IG"
      },
      "execution_count": 50,
      "outputs": []
    },
    {
      "cell_type": "markdown",
      "source": [
        "이 플롯은 항목이 참조하는 시간을 기준으로 입력, 레이블 및 (나중에) 예측값을 정렬합니다."
      ],
      "metadata": {
        "id": "pXpaLnAbrLNf"
      }
    },
    {
      "cell_type": "code",
      "source": [
        "w2.plot()"
      ],
      "metadata": {
        "colab": {
          "base_uri": "https://localhost:8080/",
          "height": 497
        },
        "id": "E08FzPwirP3r",
        "outputId": "5319112d-5701-4140-b322-8a247496a9c2"
      },
      "execution_count": 55,
      "outputs": [
        {
          "output_type": "display_data",
          "data": {
            "text/plain": [
              "<Figure size 864x576 with 3 Axes>"
            ],
            "image/png": "[encoded data removed]"
          },
          "metadata": {
            "needs_background": "light"
          }
        }
      ]
    },
    {
      "cell_type": "markdown",
      "source": [
        "다른 열을 플롯할 수 있지만 예제 창 `w2` 구성에는 `T (degC)` 열에 대한 레이블만 있습니다."
      ],
      "metadata": {
        "id": "f7pRtCIYr-gx"
      }
    },
    {
      "cell_type": "code",
      "source": [
        "w2.plot(plot_col='p (mbar)')"
      ],
      "metadata": {
        "colab": {
          "base_uri": "https://localhost:8080/",
          "height": 497
        },
        "id": "QJrBKqrfsBpt",
        "outputId": "8c6d966f-730d-4d51-98a5-413b38dfd989"
      },
      "execution_count": 56,
      "outputs": [
        {
          "output_type": "display_data",
          "data": {
            "text/plain": [
              "<Figure size 864x576 with 3 Axes>"
            ],
            "image/png": "[encoded data removed]"
          },
          "metadata": {
            "needs_background": "light"
          }
        }
      ]
    },
    {
      "cell_type": "markdown",
      "source": [
        "### 4. `tf.data.Dataset` 만들기\n",
        "\n",
        "마지막으로, 이 `make_dataset` 메서드는 시계열 `DataFrame`을 가져와 `preprocessing.timeseries_dataset_from_array` 함수를 이용해 `(input_window, label_window)` 쌍의 `tf.data.Dataset`로 변환합니다."
      ],
      "metadata": {
        "id": "pW2c9mNarSYw"
      }
    },
    {
      "cell_type": "code",
      "source": [
        "def make_dataset(self, data): \n",
        "  data = np.array(data, dtype=np.float32)\n",
        "  ds = tf.keras.preprocessing.timeseries_dataset_from_array(\n",
        "      data=data,\n",
        "      targets=None,\n",
        "      sequence_length=self.total_window_size,\n",
        "      sequence_stride=1,\n",
        "      shuffle=True,\n",
        "      batch_size=32, )\n",
        "  \n",
        "  ds = ds.map(self.split_window)\n",
        "\n",
        "  return ds\n",
        "\n",
        "WindowGenerator.make_dataset = make_dataset"
      ],
      "metadata": {
        "id": "VhpI8IZ4sZ0g"
      },
      "execution_count": 57,
      "outputs": []
    },
    {
      "cell_type": "markdown",
      "source": [
        "`WindowGenerator` 객체는 훈련, 검증 및 테스트 데이터를 보유합니다. 위의 `make_dataset` 메서드를 사용하여 `tf.data.Datasets`로 여기에 액세스하기 위한 특성을 추가합니다. 또한 간편한 액세스와 플롯을 위한 표준 예제 배치를 추가합니다."
      ],
      "metadata": {
        "id": "OFsPbZNstXp5"
      }
    },
    {
      "cell_type": "code",
      "source": [
        "\"\"\"\n",
        "kh) @property\n",
        "\n",
        "property 함수나 @property 데코레이터를 사용했을 때 가장 큰 이점은 외부에 티 내지 않고 \n",
        "\n",
        "내부적으로 클래스의 필드 접근 방법을 바꿀 수 있다는 것\n",
        "\n",
        "Ref LINK. https://www.daleseo.com/python-property/\n",
        "\n",
        "==> kh) property(), @property:  getter, setter 없이 클래스 필드에 접근 가능 하게 함\n",
        "\n",
        "\"\"\"\n",
        "\n",
        "@property\n",
        "def train(self):\n",
        "  return self.make_dataset(self.train_df)\n",
        "\n",
        "@property\n",
        "def val(self):\n",
        "  return self.make_dataset(self.val_df)\n",
        "\n",
        "@property\n",
        "def test(self):\n",
        "  return self.make_dataset(self.test_df)\n",
        "\n",
        "@property\n",
        "def example(self):\n",
        "  \"\"\"Get and cache an example batch of 'inputs, labels' for plotting.\"\"\"\n",
        "  result = getattr(self, '_example_', None)\n",
        "  if result is None:\n",
        "    # No example batch was found, so get one from the '.train' dataset\n",
        "    result = next(iter(self.train))\n",
        "    # ANd cache it for next time\n",
        "    self._example = result\n",
        "  return result\n",
        "\n",
        "WindowGenerator.train = train\n",
        "WindowGenerator.val = val\n",
        "WindowGenerator.test = test\n",
        "WindowGenerator.example = example"
      ],
      "metadata": {
        "id": "Lb3XEz_atZFi"
      },
      "execution_count": 58,
      "outputs": []
    },
    {
      "cell_type": "markdown",
      "source": [
        "이제 `WindowGenerator` 객체가 `tf.data.Dataset` 객체에 대한 액세스 권한을 부여하므로 데이터를 쉽게 반복할 수 있습니다.\n",
        "\n",
        "`Dataset.element_spec` 속성은 데이터세트 요소의 구조, `dtypes` 및 형상을 알려줍니다."
      ],
      "metadata": {
        "id": "Z4fxhlKuu0Kp"
      }
    },
    {
      "cell_type": "code",
      "source": [
        "# Each element is an (inputs, label) pair\n",
        "w2.train.element_spec"
      ],
      "metadata": {
        "colab": {
          "base_uri": "https://localhost:8080/"
        },
        "id": "H8O6jg4vu4dj",
        "outputId": "adf8a25c-7c75-4237-839f-7e36a804e8ed"
      },
      "execution_count": 59,
      "outputs": [
        {
          "output_type": "execute_result",
          "data": {
            "text/plain": [
              "(TensorSpec(shape=(None, 6, 19), dtype=tf.float32, name=None),\n",
              " TensorSpec(shape=(None, 1, 1), dtype=tf.float32, name=None))"
            ]
          },
          "metadata": {},
          "execution_count": 59
        }
      ]
    },
    {
      "cell_type": "markdown",
      "source": [
        "`Dataset`를 반복하면 구체적인 배치가 생성됩니다."
      ],
      "metadata": {
        "id": "cZAfu0OmvIJx"
      }
    },
    {
      "cell_type": "code",
      "source": [
        "for example_inputs, example_labels in w2.train.take(1):\n",
        "  print(f'Inputs shape (batch, time, features): {example_inputs.shape}')\n",
        "  print(f'Labels shape (batch, time, features): {example_labels.shape}')\n",
        "\n",
        "print(\"\\nkh check----\")\n",
        "print(\"w2.train.take(1)\", w2.train.take(1))"
      ],
      "metadata": {
        "colab": {
          "base_uri": "https://localhost:8080/"
        },
        "id": "MypzzV9jvJgN",
        "outputId": "c6438c07-915b-4925-e0fe-ddf285d36b8c"
      },
      "execution_count": 63,
      "outputs": [
        {
          "output_type": "stream",
          "name": "stdout",
          "text": [
            "Inputs shape (batch, time, features): (32, 6, 19)\n",
            "Labels shape (batch, time, features): (32, 1, 1)\n",
            "\n",
            "kh check----\n",
            "w2.train.take(1) <TakeDataset element_spec=(TensorSpec(shape=(None, 6, 19), dtype=tf.float32, name=None), TensorSpec(shape=(None, 1, 1), dtype=tf.float32, name=None))>\n"
          ]
        }
      ]
    },
    {
      "cell_type": "markdown",
      "source": [
        "## 단일 스텝 모델\n",
        "\n",
        "이러한 종류의 데이터를 기반으로 빌드할 수 있는 가장 간단한 모델은 현재 조건에만 기초하여 미래로 1 타임스텝(1시간) 진행된 단일 특성 값을 예측하는 모델입니다.\n",
        "\n",
        "따라서 1시간 미래의 `T (degC)` 값을 예측하는 모델을 빌드하는 것으로 시작하겠습니다.\n",
        "\n",
        "![Predict the next time step](images/narrow_window.png)\n",
        "\n",
        "\n",
        "kh) Image LINK. https://www.tensorflow.org/tutorials/structured_data/images/narrow_window.png?hl=ko\n",
        "\n",
        "----\n",
        "\n",
        "다음과 같은 단일 스텝 `(input, label)` 쌍을 생성하도록 `WindowGenerator` 객체를 구성합니다."
      ],
      "metadata": {
        "id": "ULxDfUYAwbYh"
      }
    },
    {
      "cell_type": "code",
      "source": [
        "single_step_window = WindowGenerator(\n",
        "    input_width=1, label_width=1, shift=1,\n",
        "    label_columns=['T (degC)'])\n",
        "\n",
        "single_step_window\n"
      ],
      "metadata": {
        "colab": {
          "base_uri": "https://localhost:8080/"
        },
        "id": "0359UZoRwjeF",
        "outputId": "dde5adc8-ad6c-4d0f-e469-e6e3ace2147b"
      },
      "execution_count": 64,
      "outputs": [
        {
          "output_type": "execute_result",
          "data": {
            "text/plain": [
              "Total window size: 2\n",
              "Input indices: [0]\n",
              "Label indices: [1]\n",
              "Label column name(s): ['T (degC)']"
            ]
          },
          "metadata": {},
          "execution_count": 64
        }
      ]
    },
    {
      "cell_type": "markdown",
      "source": [
        "`window` 객체는 훈련, 검증 및 테스트 세트로부터 `tf.data.Datasets`를 생성하므로 데이터 배치를 쉽게 반복할 수 있습니다.\n"
      ],
      "metadata": {
        "id": "MJSCgMoBww_Q"
      }
    },
    {
      "cell_type": "code",
      "source": [
        "for example_inputs, example_labels in single_step_window.train.take(1):\n",
        "  print(f'Inputs shape (batch, time, features): {example_inputs.shape}')\n",
        "  print(f'Labels shape (batch, time, features): {example_labels.shape}')"
      ],
      "metadata": {
        "colab": {
          "base_uri": "https://localhost:8080/"
        },
        "id": "YEkHbX5Xw0K3",
        "outputId": "0544dd51-bc47-4e67-a08e-079e00f52b87"
      },
      "execution_count": 65,
      "outputs": [
        {
          "output_type": "stream",
          "name": "stdout",
          "text": [
            "Inputs shape (batch, time, features): (32, 1, 19)\n",
            "Labels shape (batch, time, features): (32, 1, 1)\n"
          ]
        }
      ]
    },
    {
      "cell_type": "markdown",
      "source": [
        "### 기준 \n",
        "\n",
        "(kh\n",
        "* BaseLine 모델 빌드\n",
        "* 제공되는 tf.keras.Model 을 기준 모델로 사용\n",
        "\n",
        ")\n",
        "\n",
        "훈련 가능한 모델을 빌드하기 전에 나중에 더 복잡한 모델과 비교하기 위한 포인트로 성능 기준을 갖는 것이 좋습니다.\n",
        "\n",
        "첫 번째 작업은 모든 특성의 현재 값을 고려하여 1시간 미래의 온도를 예측하는 것입니다. 현재 값에는 현재 온도가 포함됩니다.\n",
        "\n",
        "따라서 예측으로 현재 온도를 반환하여 \"변화 없음\"을 예측하는 모델로 시작하겠습니다. 온도는 천천히 변하기 때문에 이것은 합리적인 기준입니다. 물론, 더 미래로 들어가면 이 기준의 예측 효과는 떨어질 것입니다.\n",
        "\n",
        "![Send the input to the output](images/baseline.png)\n",
        "\n",
        "kh IMAGE LINK. https://www.tensorflow.org/tutorials/structured_data/images/baseline.png?hl=ko"
      ],
      "metadata": {
        "id": "v0zRhDKDvjbe"
      }
    },
    {
      "cell_type": "code",
      "source": [
        "class Baseline(tf.keras.Model):\n",
        "  def __init__(self, label_index=None):\n",
        "    super().__init__()\n",
        "    self.label_index = label_index\n",
        "\n",
        "  def call(self, inputs):\n",
        "    if self.label_index is None:\n",
        "      return inputs\n",
        "    result = inputs[:, :, self.label_index]\n",
        "    return result[:, :, tf.newaxis]\n",
        "    "
      ],
      "metadata": {
        "id": "KNi33Xm3xNiR"
      },
      "execution_count": 66,
      "outputs": []
    },
    {
      "cell_type": "markdown",
      "source": [
        "이 모델을 인스턴스화하고 평가합니다."
      ],
      "metadata": {
        "id": "9bBvfu3nwQMX"
      }
    },
    {
      "cell_type": "code",
      "source": [
        ""
      ],
      "metadata": {
        "id": "0dEAGziMyACL"
      },
      "execution_count": null,
      "outputs": []
    }
  ]
}